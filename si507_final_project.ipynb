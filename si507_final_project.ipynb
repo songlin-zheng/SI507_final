{
 "cells": [
  {
   "cell_type": "markdown",
   "metadata": {
    "id": "a7SxwScmYqia"
   },
   "source": [
    "# SI 507 final project: analysis of anime data"
   ]
  },
  {
   "cell_type": "markdown",
   "metadata": {
    "id": "oWu1Uwj3Xiu4"
   },
   "source": [
    "final project of SI 507"
   ]
  },
  {
   "cell_type": "markdown",
   "metadata": {
    "id": "n3fmhRuamooa"
   },
   "source": [
    "##  Data preparation"
   ]
  },
  {
   "cell_type": "markdown",
   "metadata": {
    "id": "D8VpOU93YyIZ"
   },
   "source": [
    "### Generate authentication"
   ]
  },
  {
   "cell_type": "code",
   "execution_count": 8,
   "metadata": {
    "id": "qslcI0cXYix2"
   },
   "outputs": [],
   "source": [
    "import json\n",
    "import requests\n",
    "import secrets\n",
    "import csv\n",
    "import time\n",
    "from bs4 import BeautifulSoup\n",
    "import mal_client.py"
   ]
  },
  {
   "cell_type": "code",
   "execution_count": null,
   "metadata": {
    "id": "VWZPHweqYojr"
   },
   "outputs": [],
   "source": [
    "CLIENT_ID = mal_client.CLIENT_ID\n",
    "CLIENT_SECRET = mal_client.CLIENT_SECRET"
   ]
  },
  {
   "cell_type": "code",
   "execution_count": null,
   "metadata": {
    "id": "E3kvZtPDZF3y"
   },
   "outputs": [],
   "source": [
    "# 1. Generate a new Code Verifier / Code Challenge.\n",
    "def get_new_code_verifier() -> str:\n",
    "    token = secrets.token_urlsafe(100)\n",
    "    return token[:128]\n",
    "\n",
    "\n",
    "# 2. Print the URL needed to authorise your application.\n",
    "def print_new_authorisation_url(code_challenge: str):\n",
    "    global CLIENT_ID\n",
    "\n",
    "    url = f'https://myanimelist.net/v1/oauth2/authorize?response_type=code&client_id={CLIENT_ID}&code_challenge={code_challenge}'\n",
    "    print(f'Authorise your application by clicking here: {url}\\n')\n",
    "\n",
    "\n",
    "# 3. Once you've authorised your application, you will be redirected to the webpage you've\n",
    "#    specified in the API panel. The URL will contain a parameter named \"code\" (the Authorisation\n",
    "#    Code). You need to feed that code to the application.\n",
    "def generate_new_token(authorisation_code: str, code_verifier: str) -> dict:\n",
    "    global CLIENT_ID, CLIENT_SECRET\n",
    "\n",
    "    url = 'https://myanimelist.net/v1/oauth2/token'\n",
    "    data = {\n",
    "        'client_id': CLIENT_ID,\n",
    "        'client_secret': CLIENT_SECRET,\n",
    "        'code': authorisation_code,\n",
    "        'code_verifier': code_verifier,\n",
    "        'grant_type': 'authorization_code'\n",
    "    }\n",
    "\n",
    "    response = requests.post(url, data)\n",
    "    response.raise_for_status()  # Check whether the requests contains errors\n",
    "\n",
    "    token = response.json()\n",
    "    response.close()\n",
    "    print('Token generated successfully!')\n",
    "\n",
    "    with open('token.json', 'w') as file:\n",
    "        json.dump(token, file, indent = 4)\n",
    "        print('Token saved in \"token.json\"')\n",
    "\n",
    "    return token\n",
    "\n",
    "\n",
    "# 4. Test the API by requesting your profile information\n",
    "def print_user_info(access_token: str):\n",
    "    url = 'https://api.myanimelist.net/v2/anime?q=cowboy%20bebop'\n",
    "    response = requests.get(url, headers = {\n",
    "        'Authorization': f'Bearer {access_token}'\n",
    "        })\n",
    "    \n",
    "    response.raise_for_status()\n",
    "    user = response.json()\n",
    "    response.close()\n",
    "\n",
    "    print(f\"\\n>>> Greetings {user}! <<<\")\n"
   ]
  },
  {
   "cell_type": "code",
   "execution_count": null,
   "metadata": {
    "colab": {
     "base_uri": "https://localhost:8080/"
    },
    "id": "oby5bWLKZJ7q",
    "outputId": "d86a58bf-d7f7-4e98-ea0d-2b29caef5675"
   },
   "outputs": [
    {
     "name": "stdout",
     "output_type": "stream",
     "text": [
      "Authorise your application by clicking here: https://myanimelist.net/v1/oauth2/authorize?response_type=code&client_id=206c0e0531f8910a3898c210ea19012f&code_challenge=g0nB01cfWnIC1tsFyWmGkHseIB988cDgOHxPgj-vInUwiLDnIEkTA0Iq5mISfUKxNgd2KbGcCwj1OC9teDHAolR387ZqKmMLHoncc6vKFiVQJotbSZ6Sbz3oF6Cz7dfa\n",
      "\n",
      "Copy-paste the Authorisation Code: def502009009b02b521974ca2efa9a126d9924387cb4251a9760502cd16e61ec917816c174ebd91f91469474c2779aad9a5e2b48a08254c60209594a927c6509f5e89b006f6b9bf14542e25eaf1d3c8379fc229c0e0a823296c092ee07cf2d521dbb0e01b764760697643a010bb3adc1ea91218b34a70a79537b4f672309b4535421fb6b465069f2568e3d9cd352f285e8ba6a1ae3ef967c7639e4dbcf248b1850e79d5c5e802de197b32e341a2f10bb70989a1bd658ba34223a6b5c79be0a720313b1ae3a16409cdeac6f9b7347617961e9a72e1ca35347df7409c5ce28fbeaaeb2cf7923cb7392ad0c450cad941b6c114e407b1b1b3bf8a2d1d8bb8c16139ed93886ce241b23d3231fba3472cccf12cffa2ad7e2e58f0f08f77d74c30e3ff2dc67cd2177408ba813ae5601af52bb3e6eb921df0271f852efe79a5ce355b46099e6ec355468f5263efedefcc5fd1885a67c0a915ba40741a30cb615527802f7ed9d87e35f82d309a1eb0550aea72a313530a3828098ae080dcdbe574c8e374e2f7388cb9c48761170d2b14f7b9718f4718083ee5b9c9b1682b7420bc25a0046f613c64644fbb237c8f5901c81398fbe31e882c5d070bd03c37befe175373a8b85ca5e9181a404a2040270bc19aeabbf6696965b428f628ac830d29770dd2a641946aee6c6e783470cc1\n",
      "Token generated successfully!\n",
      "Token saved in \"token.json\"\n",
      "\n",
      ">>> Greetings {'data': [{'node': {'id': 1, 'title': 'Cowboy Bebop', 'main_picture': {'medium': 'https://api-cdn.myanimelist.net/images/anime/4/19644.jpg', 'large': 'https://api-cdn.myanimelist.net/images/anime/4/19644l.jpg'}}}, {'node': {'id': 5, 'title': 'Cowboy Bebop: Tengoku no Tobira', 'main_picture': {'medium': 'https://api-cdn.myanimelist.net/images/anime/1439/93480.jpg', 'large': 'https://api-cdn.myanimelist.net/images/anime/1439/93480l.jpg'}}}, {'node': {'id': 4037, 'title': 'Cowboy Bebop: Yose Atsume Blues', 'main_picture': {'medium': 'https://api-cdn.myanimelist.net/images/anime/10/54341.jpg', 'large': 'https://api-cdn.myanimelist.net/images/anime/10/54341l.jpg'}}}, {'node': {'id': 17205, 'title': 'Cowboy Bebop: Ein no Natsuyasumi', 'main_picture': {'medium': 'https://api-cdn.myanimelist.net/images/anime/4/45947.jpg', 'large': 'https://api-cdn.myanimelist.net/images/anime/4/45947l.jpg'}}}, {'node': {'id': 36392, 'title': 'Waga Na wa Cowboy', 'main_picture': {'medium': 'https://api-cdn.myanimelist.net/images/anime/3/87816.jpg', 'large': 'https://api-cdn.myanimelist.net/images/anime/3/87816l.jpg'}}}, {'node': {'id': 36357, 'title': 'Chibikko Cowboy', 'main_picture': {'medium': 'https://api-cdn.myanimelist.net/images/anime/7/87778.jpg', 'large': 'https://api-cdn.myanimelist.net/images/anime/7/87778l.jpg'}}}, {'node': {'id': 24087, 'title': 'Be-Bop Kaizokuban', 'main_picture': {'medium': 'https://api-cdn.myanimelist.net/images/anime/3/62799.jpg', 'large': 'https://api-cdn.myanimelist.net/images/anime/3/62799l.jpg'}}}, {'node': {'id': 2220, 'title': \"Be-Boy Kidnapp'n Idol\", 'main_picture': {'medium': 'https://api-cdn.myanimelist.net/images/anime/1/2413.jpg', 'large': 'https://api-cdn.myanimelist.net/images/anime/1/2413l.jpg'}}}, {'node': {'id': 34501, 'title': 'Kenka Banchou Otome: Girl Beats Boys', 'main_picture': {'medium': 'https://api-cdn.myanimelist.net/images/anime/9/85022.jpg', 'large': 'https://api-cdn.myanimelist.net/images/anime/9/85022l.jpg'}}}, {'node': {'id': 6096, 'title': 'Bad Boys', 'main_picture': {'medium': 'https://api-cdn.myanimelist.net/images/anime/9/13330.jpg', 'large': 'https://api-cdn.myanimelist.net/images/anime/9/13330l.jpg'}}}], 'paging': {'next': 'https://api.myanimelist.net/v2/anime?offset=10&q=cowboy+bebop'}}! <<<\n"
     ]
    }
   ],
   "source": [
    "code_verifier = code_challenge = get_new_code_verifier()\n",
    "print_new_authorisation_url(code_challenge)\n",
    "\n",
    "authorisation_code = input('Copy-paste the Authorisation Code: ').strip()\n",
    "token = generate_new_token(authorisation_code, code_verifier)\n",
    "\n",
    "print_user_info(token['access_token'])\n"
   ]
  },
  {
   "cell_type": "markdown",
   "metadata": {
    "id": "xF3lJCKJfO1x"
   },
   "source": [
    "Note: fail to correctly receive the callback of authentication. My original redirect URI is localhost/oauth, however, since I don't have an application on that port, this page won't be loaded. However, I found the returned authorization code in the url. I can build a server on localhost next time and listen for the code"
   ]
  },
  {
   "cell_type": "markdown",
   "metadata": {
    "id": "7TN6PsJOjwlA"
   },
   "source": [
    "### get all animes in one season"
   ]
  },
  {
   "cell_type": "code",
   "execution_count": null,
   "metadata": {
    "colab": {
     "base_uri": "https://localhost:8080/"
    },
    "id": "wfdd6Hmzj1PT",
    "outputId": "83917c01-972a-4ea0-8cbf-8b7545f5aa6b"
   },
   "outputs": [
    {
     "name": "stdout",
     "output_type": "stream",
     "text": [
      "{\n",
      " \"data\": [\n",
      "  {\n",
      "   \"node\": {\n",
      "    \"id\": 3858,\n",
      "    \"title\": \"Konchuu Monogatari Minashigo Hutch\",\n",
      "    \"main_picture\": {\n",
      "     \"medium\": \"https://api-cdn.myanimelist.net/images/anime/12/6900.jpg\",\n",
      "     \"large\": \"https://api-cdn.myanimelist.net/images/anime/12/6900l.jpg\"\n",
      "    }\n",
      "   }\n",
      "  },\n",
      "  {\n",
      "   \"node\": {\n",
      "    \"id\": 8234,\n",
      "    \"title\": \"Muumin\",\n",
      "    \"main_picture\": {\n",
      "     \"medium\": \"https://api-cdn.myanimelist.net/images/anime/8/21297.jpg\",\n",
      "     \"large\": \"https://api-cdn.myanimelist.net/images/anime/8/21297l.jpg\"\n",
      "    }\n",
      "   }\n",
      "  },\n",
      "  {\n",
      "   \"node\": {\n",
      "    \"id\": 8778,\n",
      "    \"title\": \"Avignon no Hashi de\",\n",
      "    \"main_picture\": {\n",
      "     \"medium\": \"https://api-cdn.myanimelist.net/images/anime/12/24341.jpg\",\n",
      "     \"large\": \"https://api-cdn.myanimelist.net/images/anime/12/24341l.jpg\"\n",
      "    }\n",
      "   }\n",
      "  },\n",
      "  {\n",
      "   \"node\": {\n",
      "    \"id\": 20025,\n",
      "    \"title\": \"Itazura Tenshi Chippo-chan\",\n",
      "    \"main_picture\": {\n",
      "     \"medium\": \"https://api-cdn.myanimelist.net/images/anime/10/53413.jpg\",\n",
      "     \"large\": \"https://api-cdn.myanimelist.net/images/anime/10/53413l.jpg\"\n",
      "    }\n",
      "   }\n",
      "  },\n",
      "  {\n",
      "   \"node\": {\n",
      "    \"id\": 22219,\n",
      "    \"title\": \"Warera Salaryman Tou\"\n",
      "   }\n",
      "  },\n",
      "  {\n",
      "   \"node\": {\n",
      "    \"id\": 38324,\n",
      "    \"title\": \"Haru wo Yobu Yume\",\n",
      "    \"main_picture\": {\n",
      "     \"medium\": \"https://api-cdn.myanimelist.net/images/anime/1841/93782.jpg\",\n",
      "     \"large\": \"https://api-cdn.myanimelist.net/images/anime/1841/93782l.jpg\"\n",
      "    }\n",
      "   }\n",
      "  },\n",
      "  {\n",
      "   \"node\": {\n",
      "    \"id\": 23001,\n",
      "    \"title\": \"Manga Jinbutsushi\",\n",
      "    \"main_picture\": {\n",
      "     \"medium\": \"https://api-cdn.myanimelist.net/images/anime/13/59663.jpg\",\n",
      "     \"large\": \"https://api-cdn.myanimelist.net/images/anime/13/59663l.jpg\"\n",
      "    }\n",
      "   }\n",
      "  },\n",
      "  {\n",
      "   \"node\": {\n",
      "    \"id\": 36347,\n",
      "    \"title\": \"Gomennasai\",\n",
      "    \"main_picture\": {\n",
      "     \"medium\": \"https://api-cdn.myanimelist.net/images/anime/8/87768.jpg\",\n",
      "     \"large\": \"https://api-cdn.myanimelist.net/images/anime/8/87768l.jpg\"\n",
      "    }\n",
      "   }\n",
      "  },\n",
      "  {\n",
      "   \"node\": {\n",
      "    \"id\": 23013,\n",
      "    \"title\": \"Norakuro\",\n",
      "    \"main_picture\": {\n",
      "     \"medium\": \"https://api-cdn.myanimelist.net/images/anime/12/74987.jpg\",\n",
      "     \"large\": \"https://api-cdn.myanimelist.net/images/anime/12/74987l.jpg\"\n",
      "    }\n",
      "   }\n",
      "  },\n",
      "  {\n",
      "   \"node\": {\n",
      "    \"id\": 8786,\n",
      "    \"title\": \"Inakappe Taishou\",\n",
      "    \"main_picture\": {\n",
      "     \"medium\": \"https://api-cdn.myanimelist.net/images/anime/5/59671.jpg\",\n",
      "     \"large\": \"https://api-cdn.myanimelist.net/images/anime/5/59671l.jpg\"\n",
      "    }\n",
      "   }\n",
      "  }\n",
      " ],\n",
      " \"paging\": {\n",
      "  \"previous\": \"https://api.myanimelist.net/v2/anime/season/1970/fall?offset=0\",\n",
      "  \"next\": \"https://api.myanimelist.net/v2/anime/season/1970/fall?offset=20\"\n",
      " },\n",
      " \"season\": {\n",
      "  \"year\": 1970,\n",
      "  \"season\": \"fall\"\n",
      " }\n",
      "}\n"
     ]
    }
   ],
   "source": [
    "url = 'https://api.myanimelist.net/v2/anime/season/1970/fall?offset=10'\n",
    "response = requests.get(url, headers = {\n",
    "    'Authorization': f\"Bearer {token['access_token']}\"\n",
    "    })\n",
    "\n",
    "response.raise_for_status()\n",
    "cb = response.json()\n",
    "response.close()\n",
    "\n",
    "print(json.dumps(cb, indent=1))"
   ]
  },
  {
   "cell_type": "markdown",
   "metadata": {
    "id": "sWrbrDN8js8_"
   },
   "source": [
    "### get details of an anime by its id"
   ]
  },
  {
   "cell_type": "code",
   "execution_count": null,
   "metadata": {
    "colab": {
     "base_uri": "https://localhost:8080/"
    },
    "id": "MYT13opgZOBw",
    "outputId": "d2797248-14b9-49c9-f645-a01ed5d355ff"
   },
   "outputs": [
    {
     "name": "stdout",
     "output_type": "stream",
     "text": [
      "{\n",
      " \"id\": 37599,\n",
      " \"title\": \"Magatsu Wahrheit: Zuerst\",\n",
      " \"main_picture\": {\n",
      "  \"medium\": \"https://api-cdn.myanimelist.net/images/anime/1109/108983.jpg\",\n",
      "  \"large\": \"https://api-cdn.myanimelist.net/images/anime/1109/108983l.jpg\"\n",
      " },\n",
      " \"alternative_titles\": {\n",
      "  \"synonyms\": [\n",
      "   \"MWZ\"\n",
      "  ],\n",
      "  \"en\": \"MAGATSU WAHRHEIT\",\n",
      "  \"ja\": \"\\u798d\\u3064\\u30f4\\u30a1\\u30fc\\u30eb\\u30cf\\u30a4\\u30c8 -ZUERST-\"\n",
      " },\n",
      " \"start_date\": \"2020-10-13\",\n",
      " \"synopsis\": \"Two young people living in the Wahrheit Empire are planning to relocate to the capital city: the shy Inumael who works as a transporter and left his beloved sister behind at his parents' home, and Leocadio, a naive new soldier of the Empire who spends his days in the imperial city thinking of his future as a soldier.\\n\\nIn the Empire, countless human beings were once extinguished from the world. The return of the \\\"light,\\\" the disaster that summoned a ferocious monster into the world, is predicted, and the remaining humans' spirits are devastated. Meanwhile, the fate of Inumael, Leocadio, and the history of the Empire will change drastically as a result of one weapon smuggling incident.\\n\\n(Source: MAL News)\",\n",
      " \"mean\": 6.38,\n",
      " \"rank\": 6436,\n",
      " \"popularity\": 3671,\n",
      " \"num_list_users\": 18747,\n",
      " \"num_scoring_users\": 2425,\n",
      " \"nsfw\": \"white\",\n",
      " \"created_at\": \"2018-03-25T03:44:26+00:00\",\n",
      " \"updated_at\": \"2020-12-06T02:24:55+00:00\",\n",
      " \"media_type\": \"tv\",\n",
      " \"status\": \"currently_airing\",\n",
      " \"genres\": [\n",
      "  {\n",
      "   \"id\": 1,\n",
      "   \"name\": \"Action\"\n",
      "  },\n",
      "  {\n",
      "   \"id\": 16,\n",
      "   \"name\": \"Magic\"\n",
      "  },\n",
      "  {\n",
      "   \"id\": 10,\n",
      "   \"name\": \"Fantasy\"\n",
      "  }\n",
      " ],\n",
      " \"num_episodes\": 0,\n",
      " \"start_season\": {\n",
      "  \"year\": 2020,\n",
      "  \"season\": \"fall\"\n",
      " },\n",
      " \"broadcast\": {\n",
      "  \"day_of_the_week\": \"tuesday\",\n",
      "  \"start_time\": \"23:00\"\n",
      " },\n",
      " \"source\": \"game\",\n",
      " \"average_episode_duration\": 1451,\n",
      " \"pictures\": [\n",
      "  {\n",
      "   \"medium\": \"https://api-cdn.myanimelist.net/images/anime/1980/107215.jpg\",\n",
      "   \"large\": \"https://api-cdn.myanimelist.net/images/anime/1980/107215l.jpg\"\n",
      "  },\n",
      "  {\n",
      "   \"medium\": \"https://api-cdn.myanimelist.net/images/anime/1978/108855.jpg\",\n",
      "   \"large\": \"https://api-cdn.myanimelist.net/images/anime/1978/108855l.jpg\"\n",
      "  },\n",
      "  {\n",
      "   \"medium\": \"https://api-cdn.myanimelist.net/images/anime/1109/108983.jpg\",\n",
      "   \"large\": \"https://api-cdn.myanimelist.net/images/anime/1109/108983l.jpg\"\n",
      "  }\n",
      " ],\n",
      " \"background\": \"\",\n",
      " \"related_anime\": [],\n",
      " \"related_manga\": [],\n",
      " \"recommendations\": [],\n",
      " \"studios\": [\n",
      "  {\n",
      "   \"id\": 1687,\n",
      "   \"name\": \"Yokohama Animation Lab\"\n",
      "  }\n",
      " ],\n",
      " \"statistics\": {\n",
      "  \"status\": {\n",
      "   \"watching\": \"8237\",\n",
      "   \"completed\": \"1\",\n",
      "   \"on_hold\": \"358\",\n",
      "   \"dropped\": \"1319\",\n",
      "   \"plan_to_watch\": \"8833\"\n",
      "  },\n",
      "  \"num_list_users\": 18748\n",
      " }\n",
      "}\n"
     ]
    }
   ],
   "source": [
    "url = 'https://api.myanimelist.net/v2/anime/37599?fields=id,title,main_picture,alternative_titles,start_date,end_date,type,synopsis,mean,rank,popularity,num_list_users,num_scoring_users,nsfw,created_at,updated_at,media_type,status,genres,my_list_status,num_episodes,start_season,broadcast,source,average_episode_duration,rating,pictures,background,related_anime,related_manga,recommendations,studios,statistics'\n",
    "response = requests.get(url, headers = {\n",
    "    'Authorization': f\"Bearer {token['access_token']}\"\n",
    "    })\n",
    "\n",
    "response.raise_for_status()\n",
    "cb = response.json()\n",
    "response.close()\n",
    "\n",
    "print(json.dumps(cb, indent=1))\n"
   ]
  },
  {
   "cell_type": "code",
   "execution_count": null,
   "metadata": {
    "colab": {
     "base_uri": "https://localhost:8080/"
    },
    "id": "gKliW9bfg4BZ",
    "outputId": "27cd1b92-6774-4329-d1ba-9a8d717e5eec"
   },
   "outputs": [
    {
     "data": {
      "text/plain": [
       "datetime.datetime(2021, 1, 1, 0, 0)"
      ]
     },
     "execution_count": 52,
     "metadata": {
      "tags": []
     },
     "output_type": "execute_result"
    }
   ],
   "source": [
    "# test datetime conversion\n",
    "from datetime import datetime\n",
    "datetime.strptime(\"2021-01-01\", \"%Y-%m-%d\")"
   ]
  },
  {
   "cell_type": "markdown",
   "metadata": {
    "id": "PtFsYJeP1Wgq"
   },
   "source": [
    "### Data acquisition"
   ]
  },
  {
   "cell_type": "code",
   "execution_count": null,
   "metadata": {
    "id": "XH7DmIVk2nhz"
   },
   "outputs": [],
   "source": [
    "# api call function\n",
    "seasons = ['winter', 'spring', 'summer', 'fall']\n",
    "years = [1970]\n",
    "\n",
    "# fetch video info by season/year?offset=number format\n",
    "def fetch_video_list(year=1970, season='fall', url = ''):\n",
    "  if len(url) == 0:\n",
    "    url = 'https://api.myanimelist.net/v2/anime/season/{}/{}'.format(year, season)\n",
    "  # print(url)\n",
    "  # url = 'https://api.myanimelist.net/v2/anime/season/fall/2020'\n",
    "  # print(url)\n",
    "  response = requests.get(url, headers = {\n",
    "      'Authorization': f\"Bearer {token['access_token']}\"\n",
    "      })\n",
    "\n",
    "  response.raise_for_status()\n",
    "  cb = response.json()\n",
    "  response.close()\n",
    "  return cb"
   ]
  },
  {
   "cell_type": "code",
   "execution_count": null,
   "metadata": {
    "colab": {
     "base_uri": "https://localhost:8080/",
     "height": 35
    },
    "id": "Zz3_CewZ7f40",
    "outputId": "89ce2672-eaa6-4ce0-a118-611844249d49"
   },
   "outputs": [
    {
     "data": {
      "application/vnd.google.colaboratory.intrinsic+json": {
       "type": "string"
      },
      "text/plain": [
       "'https://api.myanimelist.net/v2/anime/season/1970/fall?offset=10'"
      ]
     },
     "execution_count": 63,
     "metadata": {
      "tags": []
     },
     "output_type": "execute_result"
    }
   ],
   "source": [
    "fetch_video_list().get('paging',{}).get('next','')"
   ]
  },
  {
   "cell_type": "code",
   "execution_count": null,
   "metadata": {
    "id": "SltwGUMFmdIe"
   },
   "outputs": [],
   "source": [
    "# fetch and \n",
    "def fetch_store_video_info(seasons, years):\n",
    "  # data = [[\"id\", \"title\", \"start_date\", \"end_date\", \"mean\", \"rank\", \"popularity\", \"num_scoring_users\", \"media_type\", \"genres\", \"num_episodes\",\n",
    "  #          \"year\", \"season\", \"day_of_the_week\", \"start_time\", \"source\", \"average_episode_duration\", 'watching', \"completed\", \"on_hold\", \"dropped\", \"plan_to_watch\"]]\n",
    "  # # with open(\"anime.csv\", \"w\", newline='') as f:\n",
    "  # #   writer = csv.writer(f)\n",
    "  # #   writer.writerows(data)\n",
    "  data = []\n",
    "  ttime = 0\n",
    "  for year in years:\n",
    "    for season in seasons:\n",
    "      ytime = 0\n",
    "      data = []\n",
    "      tic = time.perf_counter()\n",
    "      print('start process y{}s{}'.format(year, season))\n",
    "      next = ''\n",
    "      hasStarted = False\n",
    "      while next != '' or not hasStarted:\n",
    "        hasStarted = True\n",
    "        video_list = fetch_video_list(year, season, next)\n",
    "        for video in video_list['data']:\n",
    "          data.append(fetch_video_info(video['node']['id']))\n",
    "        next = video_list.get('paging',{}).get('next','')\n",
    "      with open(\"anime.csv\", \"a\", newline='') as f:\n",
    "        writer = csv.writer(f)\n",
    "        writer.writerows(data)\n",
    "      toc = time.perf_counter()\n",
    "      print(\"Used time: {}\".format((toc-tic)/60))\n",
    "      ttime += (toc-tic) / 60\n",
    "      ytime += (toc-tic) / 60\n",
    "    print(\"Year {} time: {}\".format(year, ytime))\n",
    "    print(\"Total time: {}\".format(ttime))"
   ]
  },
  {
   "cell_type": "code",
   "execution_count": null,
   "metadata": {
    "id": "yl5il2-z5lwx"
   },
   "outputs": [],
   "source": [
    "# fetch information of a single video\n",
    "def fetch_video_info(id):\n",
    "  url = 'https://api.myanimelist.net/v2/anime/{}?fields=id,title,main_picture,alternative_titles,start_date,end_date,type,synopsis,mean,rank,popularity,num_list_users,num_scoring_users,nsfw,created_at,updated_at,media_type,status,genres,my_list_status,num_episodes,start_season,broadcast,source,average_episode_duration,rating,pictures,background,related_anime,related_manga,recommendations,studios,statistics'.format(id)\n",
    "  response = requests.get(url, headers = {\n",
    "      'Authorization': f\"Bearer {token['access_token']}\"\n",
    "      })\n",
    "\n",
    "  response.raise_for_status()\n",
    "  cb = response.json()\n",
    "  response.close()\n",
    "  return [cb['id'],cb['title'],cb.get('start_date', ''),cb.get('end_date', ''),cb.get('mean', ''),cb.get('rank', ''),cb.get('popularity', ''),\n",
    "          cb.get('num_scoring_users', ''),cb.get('media_type', ''),\"+\".join([genre['name'] for genre in cb.get('genres', [])]),cb.get('num_episodes', 0),\n",
    "          cb['start_season']['year'],cb['start_season']['season'],cb.get('broadcast',{}).get('day_of_the_week',''),cb.get('broadcast', {}).get('start_time',''),cb.get('source',''),\n",
    "          cb.get('average_episode_duration', 0),int(cb['statistics']['status']['watching']),int(cb['statistics']['status']['completed']),int(cb['statistics']['status']['on_hold']),\n",
    "          int(cb['statistics']['status']['dropped']),int(cb['statistics']['status']['plan_to_watch'])]"
   ]
  },
  {
   "cell_type": "code",
   "execution_count": null,
   "metadata": {
    "colab": {
     "background_save": true,
     "base_uri": "https://localhost:8080/"
    },
    "id": "4oPH9PTRMAG4",
    "outputId": "132b380f-bec1-4b9e-bc9a-0ae79daa3cb1"
   },
   "outputs": [
    {
     "name": "stdout",
     "output_type": "stream",
     "text": [
      "start process y2011swinter\n",
      "Used time: 1.6907011211499896\n",
      "start process y2011sspring\n",
      "Used time: 1.6795477227333322\n",
      "start process y2011ssummer\n",
      "Used time: 1.8612784772833644\n",
      "start process y2011sfall\n",
      "Used time: 1.7625550643332948\n",
      "Year 2011 time: 1.7625550643332948\n",
      "Total time: 6.994082385499981\n",
      "start process y2012swinter\n",
      "Used time: 1.965443065049961\n",
      "start process y2012sspring\n",
      "Used time: 1.7513806882999536\n",
      "start process y2012ssummer\n",
      "Used time: 2.0311697654166587\n",
      "start process y2012sfall\n",
      "Used time: 2.1514745365666994\n",
      "Year 2012 time: 2.1514745365666994\n",
      "Total time: 14.893550440833252\n",
      "start process y2013swinter\n",
      "Used time: 1.914355641866617\n",
      "start process y2013sspring\n",
      "Used time: 1.9136716327000007\n",
      "start process y2013ssummer\n",
      "Used time: 2.1980807131833595\n",
      "start process y2013sfall\n",
      "Used time: 2.1593086773000323\n",
      "Year 2013 time: 2.1593086773000323\n",
      "Total time: 23.07896710588326\n",
      "start process y2014swinter\n",
      "Used time: 2.369868429883354\n",
      "start process y2014sspring\n",
      "Used time: 2.236590076249983\n",
      "start process y2014ssummer\n",
      "Used time: 2.3078039002167015\n",
      "start process y2014sfall\n",
      "Used time: 2.483519141350007\n",
      "Year 2014 time: 2.483519141350007\n",
      "Total time: 32.47674865358331\n",
      "start process y2015swinter\n",
      "Used time: 2.123232079800012\n",
      "start process y2015sspring\n",
      "Used time: 1.9706765880833095\n",
      "start process y2015ssummer\n",
      "Used time: 2.3754821833333457\n",
      "start process y2015sfall\n",
      "Used time: 2.4330834156833587\n",
      "Year 2015 time: 2.4330834156833587\n",
      "Total time: 41.37922292048333\n",
      "start process y2016swinter\n",
      "Used time: 2.2727258651000133\n",
      "start process y2016sspring\n",
      "Used time: 2.2619338865000223\n",
      "start process y2016ssummer\n",
      "Used time: 2.3968475907166673\n",
      "start process y2016sfall\n",
      "Used time: 2.792326437699982\n",
      "Year 2016 time: 2.792326437699982\n",
      "Total time: 51.10305670050002\n",
      "start process y2017swinter\n",
      "Used time: 2.4648219865000405\n",
      "start process y2017sspring\n",
      "Used time: 2.4715051253833735\n",
      "start process y2017ssummer\n",
      "Used time: 2.690783342149977\n",
      "start process y2017sfall\n",
      "Used time: 2.7234263867166493\n",
      "Year 2017 time: 2.7234263867166493\n",
      "Total time: 61.45359354125006\n",
      "start process y2018swinter\n",
      "Used time: 2.472033511999992\n",
      "start process y2018sspring\n",
      "Used time: 2.411964231283309\n",
      "start process y2018ssummer\n",
      "Used time: 2.624949369899999\n",
      "start process y2018sfall\n",
      "Used time: 2.4822657171000175\n",
      "Year 2018 time: 2.4822657171000175\n",
      "Total time: 71.44480637153337\n",
      "start process y2019swinter\n",
      "Used time: 2.1777714213500077\n",
      "start process y2019sspring\n",
      "Used time: 1.9802652532000138\n",
      "start process y2019ssummer\n",
      "Used time: 1.973948037116679\n",
      "start process y2019sfall\n",
      "Used time: 1.8893270054833313\n",
      "Year 2019 time: 1.8893270054833313\n",
      "Total time: 79.46611808868342\n",
      "79.46633073238335\n"
     ]
    }
   ],
   "source": [
    "tic = time.perf_counter()\n",
    "years = range(2011, 2020)\n",
    "videos = fetch_store_video_info(seasons, years)\n",
    "toc = time.perf_counter()\n",
    "print((toc - tic) / 60)"
   ]
  },
  {
   "cell_type": "markdown",
   "metadata": {
    "id": "AN51IVH9VseT"
   },
   "source": [
    "The collected data is around 4MB, and contain anime from 1970-2020."
   ]
  },
  {
   "cell_type": "markdown",
   "metadata": {
    "id": "Q2nEH4Q-JTJt"
   },
   "source": [
    "### Bilibili crawler\n",
    "\n",
    "It's annoying that bilibili.com has adopted anti-crawler technique, when I use the static crawler technique taught in class, I can only get a *loading* message back. So I used the combination of selenium + bs."
   ]
  },
  {
   "cell_type": "code",
   "execution_count": 2,
   "metadata": {
    "colab": {
     "base_uri": "https://localhost:8080/"
    },
    "id": "wVfb4OzyJXr8",
    "outputId": "76b07ebf-0e14-4b72-b08d-47f090dd1e7d"
   },
   "outputs": [
    {
     "name": "stdout",
     "output_type": "stream",
     "text": [
      "Collecting selenium\n",
      "  Using cached https://files.pythonhosted.org/packages/80/d6/4294f0b4bce4de0abf13e17190289f9d0613b0a44e5dd6a7f5ca98459853/selenium-3.141.0-py2.py3-none-any.whl\n",
      "Requirement already satisfied: urllib3 in /usr/local/lib/python3.6/dist-packages (from selenium) (1.24.3)\n",
      "Installing collected packages: selenium\n",
      "Successfully installed selenium-3.141.0\n",
      "Ign:1 https://developer.download.nvidia.com/compute/cuda/repos/ubuntu1804/x86_64  InRelease\n",
      "Ign:2 https://developer.download.nvidia.com/compute/machine-learning/repos/ubuntu1804/x86_64  InRelease\n",
      "Hit:3 https://developer.download.nvidia.com/compute/cuda/repos/ubuntu1804/x86_64  Release\n",
      "Hit:4 https://developer.download.nvidia.com/compute/machine-learning/repos/ubuntu1804/x86_64  Release\n",
      "Hit:5 https://cloud.r-project.org/bin/linux/ubuntu bionic-cran40/ InRelease\n",
      "Hit:7 http://archive.ubuntu.com/ubuntu bionic InRelease\n",
      "Hit:8 http://security.ubuntu.com/ubuntu bionic-security InRelease\n",
      "Hit:9 http://ppa.launchpad.net/c2d4u.team/c2d4u4.0+/ubuntu bionic InRelease\n",
      "Hit:10 http://archive.ubuntu.com/ubuntu bionic-updates InRelease\n",
      "Hit:12 http://archive.ubuntu.com/ubuntu bionic-backports InRelease\n",
      "Hit:13 http://ppa.launchpad.net/graphics-drivers/ppa/ubuntu bionic InRelease\n",
      "Reading package lists... Done\n",
      "Reading package lists... Done\n",
      "Building dependency tree       \n",
      "Reading state information... Done\n",
      "chromium-chromedriver is already the newest version (87.0.4280.66-0ubuntu0.18.04.1).\n",
      "0 upgraded, 0 newly installed, 0 to remove and 36 not upgraded.\n",
      "cp: '/usr/lib/chromium-browser/chromedriver' and '/usr/bin/chromedriver' are the same file\n"
     ]
    },
    {
     "name": "stderr",
     "output_type": "stream",
     "text": [
      "/usr/local/lib/python3.6/dist-packages/ipykernel_launcher.py:12: DeprecationWarning: use options instead of chrome_options\n",
      "  if sys.path[0] == '':\n"
     ]
    }
   ],
   "source": [
    "!pip install selenium\n",
    "!apt-get update # to update ubuntu to correctly run apt install\n",
    "!apt install chromium-chromedriver\n",
    "!cp /usr/lib/chromium-browser/chromedriver /usr/bin\n",
    "import sys\n",
    "sys.path.insert(0,'/usr/lib/chromium-browser/chromedriver')\n",
    "from selenium import webdriver\n",
    "chrome_options = webdriver.ChromeOptions()\n",
    "chrome_options.add_argument('--headless')\n",
    "chrome_options.add_argument('--no-sandbox')\n",
    "chrome_options.add_argument('--disable-dev-shm-usage')\n",
    "wd = webdriver.Chrome('chromedriver',chrome_options=chrome_options)"
   ]
  },
  {
   "cell_type": "code",
   "execution_count": 22,
   "metadata": {
    "id": "pvdHUL6iQGw4"
   },
   "outputs": [],
   "source": [
    "# save to cache\n",
    "CACHE_FILENAME = \"bilibili_cache.json\"\n",
    "\n",
    "def open_cache():\n",
    "    ''' Opens the cache file if it exists and loads the JSON into\n",
    "    the CACHE_DICT dictionary.\n",
    "    if the cache file doesn't exist, creates a new cache dictionary\n",
    "    \n",
    "    Parameters\n",
    "    ----------\n",
    "    None\n",
    "    \n",
    "    Returns\n",
    "    -------\n",
    "    The opened cache: dict\n",
    "    '''\n",
    "    try:\n",
    "        cache_file = open(CACHE_FILENAME, 'r')\n",
    "        cache_contents = cache_file.read()\n",
    "        cache_dict = json.loads(cache_contents)\n",
    "        cache_file.close()\n",
    "    except:\n",
    "        cache_dict = {}\n",
    "    return cache_dict\n",
    "\n",
    "\n",
    "def save_cache(cache_dict):\n",
    "    ''' Saves the current state of the cache to disk\n",
    "    \n",
    "    Parameters\n",
    "    ----------\n",
    "    cache_dict: dict\n",
    "        The dictionary to save\n",
    "    \n",
    "    Returns\n",
    "    -------\n",
    "    None\n",
    "    '''\n",
    "    dumped_json_cache = json.dumps(cache_dict)\n",
    "    fw = open(CACHE_FILENAME,\"w\")\n",
    "    fw.write(dumped_json_cache)\n",
    "    fw.close() "
   ]
  },
  {
   "cell_type": "code",
   "execution_count": null,
   "metadata": {
    "id": "Ke1UyVSTJrKt"
   },
   "outputs": [],
   "source": [
    "# collect data for top popular anime in each category\n",
    "# fetch popularity for top 100 anime for original / manga sourced / novel sourced / game sourced anime\n",
    "base_url_source = \"https://www.bilibili.com/anime/index/#season_version=-1&area=-1&is_finish=-1&copyright=-1&season_status=-1&season_month=-1&year=-1&style_id={}&order=3&st=1&sort=0&page={}\"\n",
    "sources = [10010, 10011, 10012, 10013] # original, manga, novel, game\n",
    "pages = [1,2,3,4,5]\n",
    "sources_name = {10010:\"original\", 10011:\"manga sourced\", 10012:\"novel sourced\", 10013:\"game sourced\"}\n",
    "source_popularity = {\"source\":[], \"popularity\":[]}\n",
    "\n",
    "bilibili_cache = open_cache()\n",
    "prev = \"\"\n",
    "for source in sources:\n",
    "  for page in pages:\n",
    "    cur_url = base_url_source.format(source, page)\n",
    "    data = \"\"\n",
    "    if cur_url not in bilibili_cache or divmod(time.time() - bilibili_cache[cur_url+'!time'], 3600)[0] >= 12:\n",
    "      print('A new search' + cur_url)\n",
    "      wd.get(cur_url)\n",
    "      data = wd.page_source\n",
    "      bilibili_cache[cur_url] = data\n",
    "      bilibili_cache[cur_url+\"!time\"] = time.time()\n",
    "      save_cache(bilibili_cache)\n",
    "    else:\n",
    "      data = bilibili_cache[cur_url]\n",
    "    soup = BeautifulSoup(data, 'html.parser')\n",
    "    for bangumi in soup.find_all('li', class_='bangumi-item'):\n",
    "      source_popularity['source'].append(sources_name[source])\n",
    "      print(bangumi)\n",
    "      source_popularity['popularity'].append(float(bangumi.find(class_=\"shadow\").text[:-3]))"
   ]
  },
  {
   "cell_type": "code",
   "execution_count": null,
   "metadata": {
    "id": "Ntl5vKvoYhnK"
   },
   "outputs": [],
   "source": [
    "# fetch popularity for top 20 anime of each anime genre\n",
    "# frist get each genre name\n",
    "genres = []\n",
    "wd.get(base_url_source.format(10016, 1))\n",
    "soup = BeautifulSoup(wd.page_source, 'html.parser')\n",
    "for genre in soup.find_all('li', class_='filter-item'):\n",
    "  genres.append(genre.text)\n",
    "genres = genres[genres.index('热血'): genres.index('职场')+1]\n",
    "genre_popularity={\"genre\":[], \"popularity\":[]}\n",
    "j = 0\n",
    "for i in range(10016, 10049):\n",
    "  if i != 10019:\n",
    "    cur_url = base_url_source.format(i, 1)\n",
    "    if cur_url not in bilibili_cache or divmod(time.time() - bilibili_cache[cur_url+'!time'], 3600)[0] >= 12:\n",
    "      wd.get(cur_url)\n",
    "      data = wd.page_source\n",
    "      bilibili_cache[cur_url] = data\n",
    "      bilibili_cache[cur_url+\"!time\"] = time.time()\n",
    "      save_cache(bilibili_cache)\n",
    "    else:\n",
    "      data = bilibili_cache[cur_url]\n",
    "    print(i, genres[j], len(data))\n",
    "    soup = BeautifulSoup(data, 'html.parser')\n",
    "    for bangumi in soup.find_all('li', class_='bangumi-item'):\n",
    "      genre_popularity['genre'].append(genres[j])\n",
    "      print(bangumi)\n",
    "      genre_popularity['popularity'].append(float(bangumi.find(class_=\"shadow\").text[:-3]))\n",
    "    j += 1"
   ]
  },
  {
   "cell_type": "code",
   "execution_count": 84,
   "metadata": {
    "id": "j2LBOyujZU15"
   },
   "outputs": [],
   "source": [
    "import pandas as pd\n",
    "pd_source = pd.DataFrame(data=source_popularity)\n",
    "pd_genre = pd.DataFrame(data=genre_popularity)\n",
    "pd_source.to_csv(\"source.csv\")\n",
    "pd_genre.to_csv(\"genre.csv\")"
   ]
  },
  {
   "cell_type": "code",
   "execution_count": 86,
   "metadata": {
    "id": "m278tvrslww3"
   },
   "outputs": [],
   "source": [
    "pd_mal = pd.read_csv(\"anime.csv\")"
   ]
  },
  {
   "cell_type": "markdown",
   "metadata": {
    "id": "A_V2DiAQktd4"
   },
   "source": [
    "### Save to database"
   ]
  },
  {
   "cell_type": "code",
   "execution_count": 87,
   "metadata": {
    "id": "g7uJu5PJk-DY"
   },
   "outputs": [],
   "source": [
    "import sqlite3\n",
    "BILIBILI_DBNAME = 'bilibili.sqlite'\n",
    "MAL_DBNAME = \"mal.sqlite\""
   ]
  },
  {
   "cell_type": "code",
   "execution_count": 88,
   "metadata": {
    "id": "BePsLhc1maCt"
   },
   "outputs": [],
   "source": [
    "conn = sqlite3.connect(BILIBILI_DBNAME)\n",
    "pd_source.to_sql(\"source\", conn)\n",
    "pd_genre.to_sql(\"genre\", conn)\n",
    "conn.close()\n",
    "conn = sqlite3.connect(MAL_DBNAME)\n",
    "pd_mal.to_sql(\"anime\", conn)\n",
    "conn.close()"
   ]
  },
  {
   "cell_type": "code",
   "execution_count": 94,
   "metadata": {
    "colab": {
     "base_uri": "https://localhost:8080/"
    },
    "id": "wGW22jLcnE5D",
    "outputId": "13369b37-8c44-4623-b6d7-be9ca1ea4e12"
   },
   "outputs": [
    {
     "name": "stdout",
     "output_type": "stream",
     "text": [
      "(0, 38731, 'Diamond no Ace: Act II', '2019-04-02', '2020-03-31', 8.23, 271.0, 2194, 19897, 'tv', 'Comedy+Sports+School+Shounen', 52, 2019, 'spring', 'tuesday', '17:55', 'manga', 1440, 11949, 22640, 1808, 1007, 12351)\n",
      "(1, 37804, 'Shirobako Movie', '2020-02-29', '2020-02-29', 7.45, 1746.0, 2980, 372, 'movie', 'Comedy+Drama', 1, 2020, 'winter', None, None, 'original', 7200, 528, 559, 419, 65, 26694)\n",
      "(2, 40230, 'Housekishou Richard-shi no Nazo Kantei', '2020-01-09', '2020-03-26', 7.16, 2935.0, 2575, 12153, 'tv', 'Drama+Mystery+Slice of Life', 12, 2020, 'winter', 'thursday', '23:30', 'novel', 1420, 4274, 14941, 1310, 3051, 13720)\n",
      "(3, 40351, 'Pokemon (2019)', '2019-11-17', None, 7.33, 2209.0, 2614, 9828, 'tv', 'Action+Adventure+Comedy+Kids+Fantasy', 0, 2019, 'fall', 'friday', '18:55', 'game', 1415, 20711, 3, 3280, 2794, 9250)\n",
      "(4, 37890, 'Oshi ga Budoukan Ittekuretara Shinu', '2020-01-10', '2020-03-27', 7.46, 1684.0, 3123, 10507, 'tv', 'Comedy+Music+Seinen+Shoujo Ai+Slice of Life', 12, 2020, 'winter', 'friday', '01:28', 'manga', 1460, 2805, 12527, 691, 1510, 8558)\n",
      "(5, 38088, 'Digimon Adventure: Last Evolution Kizuna', '2020-02-21', '2020-02-21', 8.2, 305.0, 3449, 4577, 'movie', 'Action+Adventure+Comedy+Drama', 1, 2020, 'winter', None, None, 'original', 5640, 570, 6408, 183, 114, 14110)\n",
      "(6, 40602, '7 Seeds 2nd Season', '2020-03-26', '2020-03-26', 7.2, 2757.0, 3140, 13259, 'ona', 'Sci-Fi+Adventure+Mystery+Psychological+Drama+Romance+Shoujo', 12, 2020, 'winter', None, None, 'manga', 1465, 1070, 17746, 362, 373, 6607)\n",
      "(7, 37140, 'Gegege no Kitarou (2018)', '2018-04-01', '2020-03-29', 7.25, 2550.0, 2509, 3589, 'tv', 'Comedy+Demons+Supernatural+Shounen', 97, 2018, 'spring', 'sunday', '09:00', 'manga', 1402, 9336, 2628, 3899, 7085, 15964)\n",
      "(8, 41094, 'Xian Wang de Richang Shenghuo', '2020-01-18', '2020-03-28', 7.17, 2894.0, 2392, 14731, 'ona', 'Adventure+Slice of Life+Comedy+Demons+Fantasy+School', 15, 2020, 'winter', None, None, 'light_novel', 1131, 6433, 19744, 951, 1607, 15150)\n",
      "(9, 38476, 'Heya Camp△', '2020-01-06', '2020-03-23', 7.16, 2933.0, 1955, 22074, 'tv', 'Slice of Life+Comedy', 12, 2020, 'winter', 'monday', '20:55', 'manga', 210, 6038, 28447, 1394, 1758, 21634)\n"
     ]
    }
   ],
   "source": [
    "conn = sqlite3.connect(MAL_DBNAME)\n",
    "for i in conn.execute(\"select * from anime limit 10\").fetchall():\n",
    "  print(i)\n",
    "conn.close()"
   ]
  },
  {
   "cell_type": "code",
   "execution_count": null,
   "metadata": {
    "id": "F32NKnQn2qSM"
   },
   "outputs": [],
   "source": []
  }
 ],
 "metadata": {
  "colab": {
   "collapsed_sections": [],
   "name": "animeRec.ipynb",
   "provenance": [],
   "toc_visible": true
  },
  "kernelspec": {
   "display_name": "Python 3",
   "language": "python",
   "name": "python3"
  },
  "language_info": {
   "codemirror_mode": {
    "name": "ipython",
    "version": 3
   },
   "file_extension": ".py",
   "mimetype": "text/x-python",
   "name": "python",
   "nbconvert_exporter": "python",
   "pygments_lexer": "ipython3",
   "version": "3.7.6"
  }
 },
 "nbformat": 4,
 "nbformat_minor": 1
}
