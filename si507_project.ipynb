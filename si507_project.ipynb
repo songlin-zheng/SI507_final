{
  "nbformat": 4,
  "nbformat_minor": 0,
  "metadata": {
    "colab": {
      "name": "youtube_oauth_test.ipynb",
      "provenance": [],
      "collapsed_sections": [
        "MgshD4nQjLBI",
        "p12X1oD7icHF",
        "FQ7KD_JUPfon",
        "t0j5VtCPPpx4"
      ],
      "toc_visible": true
    },
    "kernelspec": {
      "display_name": "Python 3",
      "name": "python3"
    }
  },
  "cells": [
    {
      "cell_type": "markdown",
      "metadata": {
        "id": "OfHGCxHAW6nA"
      },
      "source": [
        "# Database preparation"
      ]
    },
    {
      "cell_type": "markdown",
      "metadata": {
        "id": "W5iEH1TniANv"
      },
      "source": [
        "## create database"
      ]
    },
    {
      "cell_type": "code",
      "metadata": {
        "id": "pWtA1K0_XD6x"
      },
      "source": [
        "import sqlite3\n",
        "from datetime import datetime\n",
        "import json\n",
        "YOUTUBE_DBNAME = 'youtube.sqlite'\n",
        "TOP_VIDEOS = \"top_videos.json\""
      ],
      "execution_count": 102,
      "outputs": []
    },
    {
      "cell_type": "code",
      "metadata": {
        "id": "NLE4shdoXbOP"
      },
      "source": [
        "# create database for youtube\n",
        "conn = sqlite3.connect(YOUTUBE_DBNAME)\n",
        "cur = conn.cursor()\n",
        "\n",
        "# channels table\n",
        "drop_channels = '''\n",
        "  DROP TABLE IF EXISTS \"channels\";\n",
        "'''\n",
        "\n",
        "create_channels = '''\n",
        "  CREATE TABLE IF NOT EXISTS \"channels\" (\n",
        "    channelId TEXT PRIMARY KEY,\n",
        "    title TEXT NOT NULL,\n",
        "    country TEXT,\n",
        "    createTime TEXT,\n",
        "    subscriberCount TEXT,\n",
        "    videoCount TEXT,\n",
        "    viewCount TEXT\n",
        "  );\n",
        "'''\n",
        "\n",
        "# playlists table\n",
        "drop_playlists = '''\n",
        "  DROP TABLE IF EXISTS \"playlists\";\n",
        "'''\n",
        "\n",
        "create_playlists = '''\n",
        "  CREATE TABLE IF NOT EXISTS \"playlists\" (\n",
        "    playlistId TEXT PRIMARY KEY,\n",
        "    title TEXT NOT NULL,\n",
        "    createTime TEXT,\n",
        "    videoCount Integer,\n",
        "    channelId TEXT,\n",
        "    FOREIGN KEY(channelId) REFERENCES channels(channelId)\n",
        "  )\n",
        "'''\n",
        "\n",
        "# videos table\n",
        "drop_videos = '''\n",
        "  DROP TABLE IF EXISTS \"videos\";\n",
        "'''\n",
        "\n",
        "create_videos = '''\n",
        "  CREATE TABLE IF NOT EXISTS \"videos\" (\n",
        "    videoId TEXT PRIMARY KEY,\n",
        "    title TEXT NOT NULL,\n",
        "    categoryId INTEGER,\n",
        "    viewCount TEXT,\n",
        "    likeCount TEXT,\n",
        "    dislikeCount TEXT,\n",
        "    favoriteCount TEXT,\n",
        "    commentCount TEXT,\n",
        "    playlistId TEXT,\n",
        "    FOREIGN KEY(playlistId) REFERENCES playlists(playlistId)\n",
        "  )\n",
        "'''\n",
        "\n",
        "# create\n",
        "conn.execute(drop_channels)\n",
        "conn.execute(create_channels)\n",
        "conn.execute(drop_playlists)\n",
        "conn.execute(create_playlists)\n",
        "conn.execute(drop_videos)\n",
        "conn.execute(create_videos)\n",
        "conn.close()"
      ],
      "execution_count": 117,
      "outputs": []
    },
    {
      "cell_type": "markdown",
      "metadata": {
        "id": "DkEzGWKQiC4k"
      },
      "source": [
        "## create database manipulation functions"
      ]
    },
    {
      "cell_type": "code",
      "metadata": {
        "id": "yvBfjX9liG-V"
      },
      "source": [
        "# insert a \"video list\" return result into videos table\n",
        "def insert_to_videos(video):\n",
        "  conn = sqlite3.connect(YOUTUBE_DBNAME)\n",
        "  cur = conn.cursor()\n",
        "  cmd = 'INSERT INTO videos VALUES(?,?,?,?,?,?,?,?)'\n",
        "  video_info = [video['id'], video['snippet']['title'], video['snippet']['categoryId'],video['statistics']['viewCount'], video['statistics']['likeCount'], \n",
        "                video['statistics']['dislikeCount'],video['statistics']['favoriteCount'],video['statistics'].get('commentCount', 'UNKNOWN'), video['snippet']['playlistId']]\n",
        "  cur.execute(cmd, video_info)\n",
        "  conn.commit()\n",
        "  conn.close()"
      ],
      "execution_count": 118,
      "outputs": []
    },
    {
      "cell_type": "code",
      "metadata": {
        "id": "BU5VlFgCk-qN"
      },
      "source": [
        "# insert a \"channel list\" return result into channels table\n",
        "def insert_to_channels(channel):\n",
        "  conn = sqlite3.connect(YOUTUBE_DBNAME)\n",
        "  cur = conn.cursor()\n",
        "  cmd = 'INSERT INTO channels VALUES(?,?,?,?,?,?,?)'\n",
        "  channel_info = [channel['id'], channel['snippet']['title'], channel['snippet']['country'], channel['snippet']['publishedAt'], \n",
        "                  channel['statistics']['subscriberCount'], channel['statistics']['videoCount'], channel['statistics']['viewCount']]\n",
        "  cur.execute(cmd, channel_info)\n",
        "  conn.commit()\n",
        "  conn.close()"
      ],
      "execution_count": 123,
      "outputs": []
    },
    {
      "cell_type": "code",
      "metadata": {
        "id": "XU20ZClSmap3"
      },
      "source": [
        "# insert a \"playlist list\" return result into playlistss table\n",
        "def insert_to_playlists(playlist):\n",
        "  conn = sqlite3.connect(YOUTUBE_DBNAME)\n",
        "  cur = conn.cursor()\n",
        "  cmd = 'INSERT INTO playlists VALUES(?,?,?,?,?,?,?)'\n",
        "  playlist_info = [playlist['id'], playlist['snippet']['title'], playlist['snippet']['publishedAt'], playlist['contentDetails']['itemCount'],\n",
        "                   playlist['snippet']['channelId']]\n",
        "  cur.execute(cmd, playlist_info)\n",
        "  conn.commit()\n",
        "  conn.close()"
      ],
      "execution_count": 124,
      "outputs": []
    },
    {
      "cell_type": "markdown",
      "metadata": {
        "id": "MgshD4nQjLBI"
      },
      "source": [
        "# Twitter API"
      ]
    },
    {
      "cell_type": "code",
      "metadata": {
        "id": "STm5yO5AjPA9"
      },
      "source": [
        "import requests\n",
        "import tweepy\n",
        "import twitter_secrets"
      ],
      "execution_count": 1,
      "outputs": []
    },
    {
      "cell_type": "code",
      "metadata": {
        "id": "fIBpFXB8jhqK"
      },
      "source": [
        "auth = tweepy.OAuthHandler(twitter_secrets.TWITTER_API_KEY, twitter_secrets.TWITTER_API_SECRET)\n",
        "auth.set_access_token(twitter_secrets.TWITTER_ACCESS_TOKEN, twitter_secrets.TWITTER_ACCESS_TOKEN_SECRET)\n",
        "\n",
        "api = tweepy.API(auth)"
      ],
      "execution_count": 2,
      "outputs": []
    },
    {
      "cell_type": "code",
      "metadata": {
        "id": "C1Bh0G-fktjN"
      },
      "source": [
        "rdt = api.get_user(\"realDonaldTrump\")"
      ],
      "execution_count": 3,
      "outputs": []
    },
    {
      "cell_type": "code",
      "metadata": {
        "id": "xNGZTmeBkzub"
      },
      "source": [
        "rdt_timeline = rdt.timeline()"
      ],
      "execution_count": 6,
      "outputs": []
    },
    {
      "cell_type": "code",
      "metadata": {
        "colab": {
          "base_uri": "https://localhost:8080/"
        },
        "id": "p5571-EJR2Q5",
        "outputId": "0cb686e7-7346-4cb0-a917-07bceb48b940"
      },
      "source": [
        "print(rdt_timeline[0].text)"
      ],
      "execution_count": 13,
      "outputs": [
        {
          "output_type": "stream",
          "text": [
            "See you tomorrow night at 7PM, Valdosta, Georgia! https://t.co/Or9WioLiVk\n"
          ],
          "name": "stdout"
        }
      ]
    },
    {
      "cell_type": "markdown",
      "metadata": {
        "id": "cDHn-RDMPD3v"
      },
      "source": [
        "# Youtube API"
      ]
    },
    {
      "cell_type": "markdown",
      "metadata": {
        "id": "p12X1oD7icHF"
      },
      "source": [
        "## preparation"
      ]
    },
    {
      "cell_type": "code",
      "metadata": {
        "id": "mE2l-lQFFM71"
      },
      "source": [
        "import os\n",
        "\n",
        "import google_auth_oauthlib.flow\n",
        "import googleapiclient.discovery\n",
        "import googleapiclient.errors\n",
        "\n",
        "import json"
      ],
      "execution_count": 14,
      "outputs": []
    },
    {
      "cell_type": "code",
      "metadata": {
        "colab": {
          "base_uri": "https://localhost:8080/"
        },
        "id": "EaYZm3CPHABI",
        "outputId": "7222dd8c-3cf6-49f7-90b2-247f9c346f2d"
      },
      "source": [
        "scopes = [\"https://www.googleapis.com/auth/youtube.readonly\"]\n",
        "os.environ[\"OAUTHLIB_INSECURE_TRANSPORT\"] = \"1\"\n",
        "\n",
        "api_service_name = \"youtube\"\n",
        "api_version = \"v3\"\n",
        "client_secrets_file = \"client_secret_1089772597554-c2p8be1ca47tbg8cmedstjr18iqcac4m.apps.googleusercontent.com.json\"\n",
        "\n",
        "# Get credentials and create an API client\n",
        "flow = google_auth_oauthlib.flow.InstalledAppFlow.from_client_secrets_file(\n",
        "    client_secrets_file, scopes)\n",
        "credentials = flow.run_console()\n",
        "youtube = googleapiclient.discovery.build(\n",
        "    api_service_name, api_version, credentials=credentials)"
      ],
      "execution_count": 15,
      "outputs": [
        {
          "output_type": "stream",
          "text": [
            "Please visit this URL to authorize this application: https://accounts.google.com/o/oauth2/auth?response_type=code&client_id=1089772597554-c2p8be1ca47tbg8cmedstjr18iqcac4m.apps.googleusercontent.com&redirect_uri=urn%3Aietf%3Awg%3Aoauth%3A2.0%3Aoob&scope=https%3A%2F%2Fwww.googleapis.com%2Fauth%2Fyoutube.readonly&state=vpOlQb1beLojQbR4GVFbxb7WOVU8FM&prompt=consent&access_type=offline\n",
            "Enter the authorization code: 4/1AY0e-g6TZj_0BaFWSPq202t88ARZemfKn6IZQ7gmgpAiUo8ehPeTlhvttT0\n"
          ],
          "name": "stdout"
        }
      ]
    },
    {
      "cell_type": "markdown",
      "metadata": {
        "id": "rGgFTqz-PZfw"
      },
      "source": [
        "## list top ranking videos"
      ]
    },
    {
      "cell_type": "code",
      "metadata": {
        "id": "WiV66vueQgbj"
      },
      "source": [
        "request = youtube.videos().list(\n",
        "        part=\"snippet,contentDetails,statistics\",\n",
        "        chart=\"mostPopular\",\n",
        "        regionCode=\"US\",\n",
        "        maxResults = 1000\n",
        "    )\n",
        "response = request.execute()"
      ],
      "execution_count": 77,
      "outputs": []
    },
    {
      "cell_type": "code",
      "metadata": {
        "colab": {
          "base_uri": "https://localhost:8080/"
        },
        "id": "aaNZRrl5eQrm",
        "outputId": "898a92ec-9fca-4b6a-e69c-aec4e0477c74"
      },
      "source": [
        "response['items'][0]['statistics']"
      ],
      "execution_count": 87,
      "outputs": [
        {
          "output_type": "execute_result",
          "data": {
            "text/plain": [
              "{'commentCount': '8192',\n",
              " 'dislikeCount': '1968',\n",
              " 'favoriteCount': '0',\n",
              " 'likeCount': '131285',\n",
              " 'viewCount': '1938201'}"
            ]
          },
          "metadata": {
            "tags": []
          },
          "execution_count": 87
        }
      ]
    },
    {
      "cell_type": "code",
      "metadata": {
        "id": "AmWIZerVh04K"
      },
      "source": [
        "# encapsulate\n",
        "def get_top_ranking_videos():\n",
        "  prev = []\n",
        "  try:\n",
        "    with open(TOP_VIDEOS) as fp:\n",
        "      prev = json.loads(fp.read())\n",
        "  except:\n",
        "    pass\n",
        "  if len(prev) > 0 and (datetime.now() - datetime.strptime(prev[-1], \"%d,%m,%Y,%H,%M\")).hour < 1:\n",
        "    return prev[:-1]\n",
        "  else:\n",
        "    total_response = []\n",
        "    request = youtube.videos().list(\n",
        "          part=\"snippet,contentDetails,statistics\",\n",
        "          chart=\"mostPopular\",\n",
        "          regionCode=\"US\"\n",
        "      )\n",
        "    response = request.execute()\n",
        "\n",
        "    pageInfo = response['pageInfo']\n",
        "    total_response.append(response['items'])\n",
        "    while pageInfo['totalResults'] > 0:\n",
        "      for i in response['items']:\n",
        "        insert_to_videos(i)\n",
        "      nextToken = response.get('nextPageToken', 'UNKNOWN')\n",
        "      pageInfo['totalResults'] -= pageInfo['resultsPerPage']\n",
        "      if pageInfo['totalResults'] > 0:\n",
        "        request = youtube.videos().list(\n",
        "            part=\"snippet,contentDetails,statistics\",\n",
        "            chart=\"mostPopular\",\n",
        "            regionCode=\"US\",\n",
        "            pageToken = nextToken\n",
        "        )\n",
        "        response = request.execute()\n",
        "    total_response.append(datetime.now().strftime(\"%d,%m,%Y,%H,%M\"))\n",
        "    with open(TOP_VIDEOS) as fp:\n",
        "      json.dump(total_response, fp)\n"
      ],
      "execution_count": 95,
      "outputs": []
    },
    {
      "cell_type": "code",
      "metadata": {
        "colab": {
          "base_uri": "https://localhost:8080/"
        },
        "id": "TOXHRszKzA3Z",
        "outputId": "c9ca3bc4-0234-4a63-b061-bcb9350e7e61"
      },
      "source": [
        "now = datetime.now()\n",
        "now"
      ],
      "execution_count": 113,
      "outputs": [
        {
          "output_type": "execute_result",
          "data": {
            "text/plain": [
              "datetime.datetime(2020, 12, 5, 2, 55, 29, 951945)"
            ]
          },
          "metadata": {
            "tags": []
          },
          "execution_count": 113
        }
      ]
    },
    {
      "cell_type": "code",
      "metadata": {
        "colab": {
          "base_uri": "https://localhost:8080/"
        },
        "id": "oiJNWSytzEmE",
        "outputId": "0e8d94ab-8b00-42cf-cc89-c4125d46ffa6"
      },
      "source": [
        "datetime.strptime(now.strftime(\"%d,%m,%Y,%H,%M\"), \"%d,%m,%Y,%H,%M\")"
      ],
      "execution_count": 114,
      "outputs": [
        {
          "output_type": "execute_result",
          "data": {
            "text/plain": [
              "datetime.datetime(2020, 12, 5, 2, 55)"
            ]
          },
          "metadata": {
            "tags": []
          },
          "execution_count": 114
        }
      ]
    },
    {
      "cell_type": "code",
      "metadata": {
        "id": "P0SyC1KJoFBT"
      },
      "source": [
        "get_top_ranking_videos()"
      ],
      "execution_count": 96,
      "outputs": []
    },
    {
      "cell_type": "code",
      "metadata": {
        "colab": {
          "base_uri": "https://localhost:8080/"
        },
        "id": "Z-AwtDL7pGio",
        "outputId": "905f2dce-61f0-4da1-9a2a-d7035fd4e9e9"
      },
      "source": [
        "# test our return\n",
        "conn = sqlite3.connect(YOUTUBE_DBNAME)\n",
        "cur = conn.cursor()\n",
        "for video in cur.execute('select * from videos').fetchall():\n",
        "  print(video)\n",
        "conn.close()"
      ],
      "execution_count": 98,
      "outputs": [
        {
          "output_type": "stream",
          "text": [
            "('ieTnO1Dvt-I', 'Lil Baby - On Me (Official Video)', 10, '1963510', '131797', '1994', '0', '8212')\n",
            "('G2bx3FzgJ6o', 'Mariah Carey - Oh Santa! (Official Music Video) ft. Ariana Grande, Jennifer Hudson', 10, '4963966', '527649', '8744', '0', '41603')\n",
            "('pKtUpBjIl-g', 'Lil Baby - Errbody (Official Video)', 10, '1881609', '128299', '1731', '0', '10221')\n",
            "('vMLk_T0PPbk', 'Black Eyed Peas, Shakira - GIRL LIKE ME (Official Music Video)', 10, '2205086', '235846', '7308', '0', '19769')\n",
            "('N_kp7qqUk5Y', 'Clash Royale: NEW LEGENDARY CARD REVEAL 😮 TV Royale Update', 20, '2689151', '133974', '3080', '0', '6794')\n",
            "('VZzZKuQUguk', \"I'm Done Making Good Videos\", 20, '2266654', '402795', '3618', '0', '26572')\n",
            "('MTgKfVXpMBY', \"OUR GENDER REVEAL! | The Herbert's\", 22, '2938557', '111394', '2806', '0', '7938')\n",
            "('RfcY3J6CjgQ', 'Swatching EVERY Liquid Lipstick I’ve EVER Made', 26, '388823', '32870', '1385', '0', '5285')\n",
            "('O__Lo2FQJKo', 'No More CLASHMAS?!', 20, '15150883', '225127', '8043', '0', '8170')\n",
            "('5f6mDfc5zg4', \"World's BRIGHTEST Flashlight?\", 28, '1992544', '115030', '1887', '0', '8827')\n",
            "('qWUsV2Ios8A', 'India take 1-0 lead after dramatic T20 opener | Dettol T20I Series 2020', 17, '13068053', '311040', '7541', '0', '11509')\n",
            "('Zdjb46ZLtDg', \"Tyla Yaweh ft. DDG & Dame D.O.L.L.A. - Stuntin' On You (Remix - Official Music Video)\", 10, '267066', '28104', '273', '0', '3115')\n",
            "('kS6IhBaE7Eo', 'Daniel Radcliffe Catches a Head Rush While Eating Spicy Wings | Hot Ones', 24, '2635064', '134526', '1205', '0', '10911')\n",
            "('bAP3Kdbdhak', 'J.I. - Excuse My Pain (Official Music Video)', 10, '297302', '41427', '238', '0', '3125')\n",
            "('PIVvnI34afQ', \"So.. I'm moving\", 23, '890188', '63246', '1120', '0', '5674')\n",
            "('vrUOPr9v8g4', 'I Made 100 Players Escape An Impossible Maze!', 20, '8832998', '423184', '8604', '0', '25852')\n",
            "('WwR-jyPHZ4Q', 'Billie Eilish - everything i wanted (LIVE FROM THE STEVE JOBS THEATER)', 10, '1092817', '228866', '1149', '0', '17877')\n",
            "('4kv3qPGtSZM', 'Where Were You When Sting Made his Shocking AEW Debut? | AEW Dynamite Winter is Coming, 12/2/20', 24, '1787674', '70183', '1621', '0', '9409')\n",
            "('CpHWiLtdiZ8', 'La Ross Maria - Navidad Solita ( Video oficial )', 10, '1804622', '284880', '1856', '0', '15078')\n",
            "('OTmozhwk9rw', 'When Satan Met 2020', 22, '1385600', '78457', '1699', '0', '3105')\n",
            "('F44gmxjRVzc', 'Watch Lil Baby’s birthday celebration on RELEASED', 10, '218612', '12276', '183', '0', '363')\n",
            "('F4neLJQC1_E', 'Dua Lipa: Tiny Desk (Home) Concert', 10, '220403', '24764', '279', '0', '1268')\n",
            "('In2l4xj-FH4', 'morray - low key (official music video)', 10, '236539', '24079', '232', '0', '2870')\n",
            "('M8htGjAsQBU', 'Big30 ft. DeeMula & Pooh Shiesty - Neighborhood Heroes (Official Video)', 10, '545698', '24818', '347', '0', '1581')\n",
            "('VMURHXgc76g', \"Coke & Mentos With Salem Ilese | The D'Amelio Family\", 22, '641246', '35363', '1296', '0', '2732')\n",
            "('9-65R77IfyM', \"Everything Epic DIDN'T Tell You In Season 5! (Tilted Towers BACK, New Material) - Fortnite Season 5\", 20, '3779041', '102880', '3523', '0', '7052')\n",
            "('XWAWgEsbrXI', '“Ratatouille,” But Much, Much Worse - Key & Peele', 23, '645196', '28779', '285', '0', '1237')\n",
            "('bwxF1XNEf3Q', 'Lil Tjay - None Of Your Love (Official Audio)', 10, '314887', '49443', '223', '0', '5379')\n",
            "('CRNg3EcomrI', 'Pizza Pockets: calzones - You Suck at Cooking (episode 119)', 26, '248931', '26525', '178', '0', '2234')\n",
            "('YHsdYu8RRSI', 'Fortnite Chapter 2 - Season 5 Battle Pass Gameplay Trailer', 20, '7927820', '326932', '9614', '0', '32427')\n",
            "('AdjuCtUduWQ', \"Why Don't We - Lotus Inn [Official Audio]\", 10, '413454', '83320', '236', '0', '12408')\n",
            "('4fW_stRQcxw', 'Parkour VS Normal People In Real Life (Part 2)', 24, '368013', '13382', '338', '0', '750')\n",
            "('3A-ynQmWIA0', 'CNCO - Hero (Official Video)', 10, '934093', '168002', '2368', '0', '25722')\n",
            "('wxGzzWAMvgE', 'Everything is Changing and I Have Thoughts', 24, '377499', '29449', '488', '0', '5808')\n",
            "('N617Tm75aHg', '42 Dugg Doubles His Jewelry Collection at Icebox!', 24, '149328', '3889', '72', '0', '377')\n",
            "('ES7krEgbXGw', 'eaJ x keshi - pillows', 10, '321050', '95537', '96', '0', '8166')\n",
            "('S2YW_wHT20U', 'Harry Styles - Golden - Behind the Scenes', 10, '2544871', '583205', '1296', '0', '37704')\n",
            "('NGnMrM9qDtE', 'Soft & Crispy Focaccia | Claire Saffitz | Dessert Person', 24, '321031', '29705', '156', '0', '2364')\n",
            "('zlvWd717pvw', 'SEASON 5 MEMES (best season ever)', 20, '5866684', '285446', '3746', '0', '20646')\n",
            "('jcYFUNm2GIM', 'MASSIVE Trebuchet/Catapult BUILD', 2, '965526', '78022', '825', '0', '4535')\n",
            "('VrIkAvUPmss', 'Catching up with Da Rock’s Siblings... she a model now and I’m still a baddie', 22, '1470584', '120283', '1482', '0', '3464')\n",
            "('1VUwRiae8IM', 'I Sent Preston to Santa Training School...', 24, '862653', '31493', '829', '0', '2950')\n",
            "('XNFBE0t0hIM', \"Dixie D'Amelio - One Whole Day Feat. Wiz Khalifa (Official Video)\", 22, '2200396', '338009', '11839', '0', '41386')\n",
            "('fTyUE162lrw', 'Why Long-Haul Low-Cost Airlines Always Go Bankrupt', 27, '410020', '19491', '368', '0', '1382')\n",
            "('ZntbOWK1VOI', 'Lavar Ball Just Pulled Off A Miracle Right In Front of Our Eyes', 17, '1013992', '56098', '965', '0', '4221')\n",
            "('Xll72rGKiu0', '1,200hp Compound Turbo Diesel F100 Vs Ken Block’s 1,400hp AWD Ford Mustang // Hoonicorn Vs the World', 2, '1491657', '49823', '837', '0', '4019')\n",
            "('ocXRln_tjMw', \"SURPRISED WITH MY NEW CAR!!! | Louie's Life\", 24, '288754', '21111', '250', '0', '2091')\n",
            "('nIACub_0bxI', 'Microsoft Holiday Commercial 2020 – Find\\xa0Your Joy (A Dog’s Dream)', 28, '225648', '9275', '267', '0', '363')\n",
            "('DBDVpdNYsvM', 'I Bought a New Home (FULL TOUR)', 24, '550975', '48305', '537', '0', '3156')\n",
            "('A3CCuNRkDB4', 'Fortnite SEASON 5 BATTLEPASS (BABY YODA + MORE!)', 20, '2552067', '82215', '2177', '0', '4228')\n",
            "('jLZeVgP6pkA', \"Painting The World's Longest Phone Mural ($80,000)\", 24, '5233056', '207537', '5114', '0', '21331')\n",
            "('qo-2gDg-37w', 'Why are Billions of Dollars Worth of Ships Being Intentionally Destroyed?', 27, '615633', '22735', '455', '0', '1828')\n",
            "('Tj97V46-Irs', \"BLACKPINK - 'THE SHOW' MESSAGE VIDEO\", 10, '3045596', '507676', '3694', '0', '24440')\n",
            "('Z1IsXoZ1omY', 'LITTLE ANGEL (Christmas Special!)', 1, '235947', '17748', '147', '0', '622')\n",
            "('295e_JPor54', \"NCT U 엔시티 유 '90's Love' Dance Practice\", 10, '1516317', '289952', '624', '0', '12291')\n",
            "('Su89wWmcm4k', '[ 8K ] GOT7 \"Breath (넌 날 숨 쉬게 해)\" Dance Practice', 24, '839551', '166856', '328', '0', '10207')\n",
            "('K3W61Ae0M9g', 'Dear Nia', 1, '357359', '58435', '356', '0', '6130')\n",
            "('GFoLacjWdF0', \"THE ACE FAMILY'S NEW INTRO VIDEO!!!\", 22, '2535644', '182151', '4341', '0', '16069')\n",
            "('q1zrv6OqPqY', 'THE TRUTH ABOUT US', 22, '13715510', '545079', '27678', '0', '38009')\n",
            "('E76vqlhmBlc', 'How Humans Lost Their Fur', 28, '503636', '31744', '936', '0', '3023')\n",
            "('dN2JZFIh5Lw', 'TILTED IS BACK! SEASON 5 TRAILER REACTION!', 20, '1583664', '57029', '1297', '0', '5178')\n",
            "('rpPCjyVfQOo', 'India hold their nerve to win ODI epic in Canberra | Dettol ODI Series 2020', 17, '22010733', '390898', '18474', '0', '15118')\n",
            "('8IaztruPKTA', 'Bryant Myers - 24/7 (Official Music Video)', 10, '789353', '67583', '1135', '0', '3593')\n",
            "('0CLlwu_utSg', \"I Bought A Running BMW For $600 (Because It's FULL OF ROACHES)\", 2, '350574', '16919', '518', '0', '2910')\n",
            "('9P-io6o5JgE', 'BTS Reacts to Their Favorite Fashion Trends | Drip Or Drop? | Cosmopolitan', 24, '3096325', '394150', '1772', '0', '9800')\n",
            "('hS2x1zl4rn0', 'Billie Eilish: Same Interview, The Fourth Year | Vanity Fair', 24, '19972073', '1457863', '13895', '0', '67254')\n",
            "('Fb01hTtmSyQ', 'Rylo Rodriguez - We Could Never Die (Official Video)', 24, '622928', '27858', '468', '0', '2375')\n",
            "('Vw4S00rPbZM', 'Ravens vs. Steelers Week 12 Highlights | NFL 2020', 17, '1992968', '21277', '805', '0', '5426')\n",
            "('33OwLS1SiUo', 'Hospital Update', 20, '3804635', '537142', '1202', '0', '58165')\n",
            "('gLZJlf5rHVs', 'What If Earth got Kicked Out of the Solar System? Rogue Earth', 27, '3794071', '251132', '2728', '0', '19651')\n",
            "('NyqqXYvYsvo', 'Fortnite GALACTUS *LIVE* EVENT! (FULL EVENT)', 20, '2803180', '113203', '2313', '0', '2681')\n",
            "('lrAHSIz6ugM', 'BLACKPINK - ‘THE SHOW’ GUIDE VIDEO', 10, '3299636', '466001', '3953', '0', '31988')\n",
            "('Emi2EqqwBwg', \"Why Mercedes had to replace Hamilton with Russell and what's really at stake\", 17, '804627', '17700', '342', '0', '2890')\n",
            "('sifshNnD-hc', 'Zonnique - #FTCU [Official Video]', 22, '258417', '17378', '604', '0', '851')\n",
            "('rVWhHZj1xk4', '42 Dugg - Free Me (Official Video)', 10, '886571', '17952', '261', '0', '835')\n",
            "('j2lCOjFes8M', \"TOMORROW X TOGETHER Can't Agree on Their Favorite Fashion Trends | Drip or Drop? | Cosmopolitan\", 24, '259614', '42694', '81', '0', '905')\n",
            "('en04cVOvNhE', \"Kevin Hart Gets An Invite To Sit At The Kids Table At Lindsey Vonn's Wedding | Cold as Balls S4\", 23, '964616', '12491', '298', '0', '827')\n",
            "('yZTpY3FU3Qw', 'Justin Bieber Is Following Hailey’s Lead with Plans for Kids', 24, '1739679', '55865', '2451', '0', '2307')\n",
            "('BxtxrNs7dFU', \"HERSHEY'S KISSES | Bells to Blossoms :15\", 24, '256967', '773', '1636', '0', 'UNKNOWN')\n",
            "('3tGZPCOC4Hg', 'HUGE Twins Swap Gift Exchange - Merrell Twins', 23, '1057000', '62114', '628', '0', '7808')\n",
            "('y-CkY9U2114', 'Ferencvároi vs. Barcelona: Extended Highlights | UCL on CBS Sports', 17, '501765', '5091', '119', '0', '1116')\n",
            "('Ejs_acL9RkM', 'YUNGBLUD feat. Machine Gun Kelly - acting like that (Official Visualizer)', 10, '657341', '82858', '447', '0', '4334')\n",
            "('Z1-xFOfnzMU', 'I had to go to the hospital... again.', 20, '4640541', '605328', '2017', '0', '85394')\n",
            "('2TFeKZYYNWc', 'Sevilla vs. Chelsea: Extended Highlights | UCL on CBS Sports', 17, '493244', '6532', '111', '0', '1295')\n",
            "('fLPSmYjH27s', 'Driving a 6x6 Army Truck Over Cars!', 2, '343343', '19620', '497', '0', '1319')\n",
            "('qsF60s_tB3w', 'Cartel de Santa - Vaya Vaya', 10, '5451761', '424875', '12114', '0', '22450')\n",
            "('YkmlPaGui5k', 'The Mad Butcher, Cleveland Torso Killer - Still Unsolved ?? Mystery and Makeup | Bailey Sarian', 24, '1634985', '182859', '970', '0', '106217')\n",
            "('Cjl_D5qCPXA', 'Bells, Bows, Gifts, Trees', 24, '727814', '76196', '1338', '0', '4096')\n",
            "('KccWUhip8Lo', 'Casually Explained: The Food of the World', 23, '1152623', '127388', '2787', '0', '11256')\n",
            "('fk0Uhr3MT8k', \"Stephen A. reacts to Nate Robinson getting KO'd & the Mike Tyson-Roy Jones Jr. draw | First Take\", 17, '2930232', '40781', '1650', '0', '4817')\n",
            "('Kr30A3xYtNc', 'Surprising My Friends with a BILLBOARD + $25,000 GIVEAWAY!!', 24, '475593', '41485', '313', '0', '27241')\n",
            "('Sch2C_6mD_8', 'WHAT DOES MY DAD THINK ABOUT ME GETTING A BBL?', 22, '741977', '42965', '953', '0', '4320')\n",
            "('KKxWfiI_n0c', \"BTS Sings 'Santa Claus Is Comin' To Town' - The Disney Holiday Singalong\", 24, '5262408', '770419', '6058', '0', '28226')\n",
            "('8ih2BxrgV4I', 'HotSpanish - NUNCA PENSÉ (Video Oficial)', 10, '777249', '84922', '4370', '0', '5876')\n",
            "('D8rEcwC0O-Y', 'Grupo Firme  - Enloquéceme (Video Oficial) 2020', 10, '1371982', '67327', '8755', '0', '3640')\n",
            "('OsCYmnzE1y4', 'Kylie Will Hate Me For This… KYLIE X GRINCH REVIEW | NikkieTutorials', 26, '2480071', '131292', '2072', '0', '7284')\n",
            "('4lmR2AkIakQ', 'Anakin Saved Grogu During Order 66 - Star Wars Theory', 24, '702828', '31703', '897', '0', '3674')\n",
            "('S27POypWgwo', \"Guess that WORD and I'll BUY It Challenge w/ 2HYPE\", 17, '414840', '23373', '283', '0', '977')\n",
            "('gkvthxO06Kw', 'GALACTUS EVENT (very cool)', 20, '5037554', '216136', '2795', '0', '19355')\n",
            "('ixZtiTUTQuc', 'El Tiempo Que Me Quede - Luis Angel \"El Flaco\" - El Mimoso [video oficial]', 10, '531883', '26842', '210', '0', '1050')\n",
            "('_XSFFqeyfhg', 'Lil Nas X - HOLIDAY (Roblox Performance)', 10, '1730067', '156762', '3023', '0', '23062')\n",
            "('q5X1Rqpz-sg', 'Rochy RD - TAMO LINDO | Video Oficial', 10, '894948', '54270', '755', '0', '2924')\n",
            "('R2ir3viLzg4', 'Rocket League Season 2 Trailer', 20, '1563300', '28078', '572', '0', '3229')\n",
            "('-EfxZxU-984', 'Utah monolith mystery explained', 25, '344898', '3806', '628', '0', '1921')\n",
            "('Qa4RyENNMvI', 'The Fate Of My Mercedes SLS AMG After A Major Mixup In Fluid (And My Friendship With Car Wizard)', 2, '605171', '31324', '500', '0', '2927')\n",
            "('hsMujJYPagQ', 'Delivery Apps Screw Over Everyone', 23, '1576568', '140414', '1094', '0', '13869')\n",
            "('UF7hTMMeRv0', 'Mike Tyson and Roy Jones Jr hilarious joint interview after their exhibition', 17, '10513027', '155299', '3549', '0', '18643')\n",
            "('hX4GE6FKlvw', 'Reacting To My Old Interviews *CRINGE*', 24, '5353913', '416871', '3374', '0', '110550')\n",
            "('IdNIfkKtaVw', 'Deck the Halls and Auld Lang Syne Medley (feat., Ni/Co) l The Great Gift Exchange!', 24, '136636', '10011', '120', '0', '641')\n",
            "('1UHmQANFtNs', '[OFFICIAL VIDEO] 12 Days of Christmas - Pentatonix', 10, '1790536', '137636', '1733', '0', '6817')\n",
            "('ewOPQZZn4SY', 'The Strokes - The Adults Are Talking (Official Video)', 10, '1049209', '88044', '628', '0', '6391')\n",
            "('CzfEG6BZAf0', \"Stay Cool With the Royal Champion's First Skin! (Clash of Clans Season Challenges)\", 20, '4103938', '76982', '2109', '0', '3195')\n",
            "('VgVzTgjKZ7k', 'BLACKPINK - THE INVITATION', 10, '4332084', '686267', '7407', '0', '49010')\n",
            "('Dc2ZRmuH5OM', 'Steal This $100,000 Diamond, You Keep It', 24, '27772734', '1268012', '29178', '0', '68670')\n",
            "('FMSKbKKYGfI', '5-Year-Old Dolly Parton Fan Sings ‘Jolene’', 24, '734157', '15473', '375', '0', 'UNKNOWN')\n",
            "('CgPDq5fpwJg', 'Gift Wrapping for a Good Cause! | The Great Gift Exchange!', 24, '267914', '21134', '413', '0', '1159')\n",
            "('oBA1rpPDcKM', 'Floyd Mayweather & KSI React To Jake Paul & Nate Robinson Fight', 24, '486567', '7574', '1589', '0', '1526')\n",
            "('ZKSEo0PJ9j0', 'Raúl Jiménez sufre brutal golpe y queda inconsciente | Telemundo Deportes', 17, '2750385', '20095', '1491', '0', '2095')\n",
            "('cPZP-yC6j70', 'The Lizard Tier List', 27, '1371176', '116200', '781', '0', '7541')\n",
            "('u28orlGwJg4', 'Pregnant After Miscarriages- Q&A', 26, '533883', '31362', '386', '0', '5284')\n",
            "('w_olF-UCINY', 'Mariah Carey Sings All of Your Holiday Favorites in a Game of Song Association | ELLE', 24, '354317', '27486', '451', '0', '1835')\n",
            "('0KEliHPskJY', 'A regularly scheduled video', 23, '1120645', '144284', '1316', '0', '14306')\n",
            "('VcWtopKLD08', 'My Room', 22, '748540', '84134', '426', '0', '8193')\n",
            "('4Wrc4fHSCpw', 'These are the asteroids to worry about', 27, '1265788', '74369', '972', '0', '6875')\n",
            "('9IWBvZ9iuUE', 'Jaden Smith Goes Sneaker Shopping With Complex', 24, '1214225', '62677', '1529', '0', '3724')\n",
            "('-A8k8GMfbtU', 'WE CAN’T BELIEVE DABABY DID THIS AT COOLKICKS', 24, '718048', '23020', '472', '0', '1629')\n",
            "('2tdjeCKdIv4', 'Normal School Vs. Online School', 24, '438112', '25746', '613', '0', '1443')\n",
            "('z1gxHexN5DI', 'GOT7 \"LAST PIECE\" M/V', 10, '18199709', '1019166', '6784', '0', '194655')\n",
            "('uY0_7wPGJlk', 'euphoria: special episode part 1 | official trailer | hbo', 22, '501280', '40250', '113', '0', '1622')\n",
            "('pc8D77Crh-Y', \"The Dixie D'Amelio Show With Larray\", 22, '3276185', '174388', '5769', '0', '7163')\n",
            "('ZQ7_En2xEm4', 'Romain Grosjean Walks Away From Dramatic, Fiery Crash | 2020 Bahrain Grand Prix', 17, '8895075', '103760', '2147', '0', '5963')\n",
            "('p4d-t_6lOSk', 'Busta Rhymes - Boomp! (Official Video)', 10, '2677037', '46732', '1262', '0', '4443')\n",
            "('Fc-fa6cAe2c', \"KAI 카이 '음 (Mmmh)' MV\", 10, '19485675', '1755162', '18459', '0', '627718')\n",
            "('LUEqthFAalE', 'WE CAN STILL DO THE *HOEDOWN THROWDOWN* DANCE!! (REACTIONS TO *HANNAH MONTANA: THE MOVIE*)', 1, '315867', '21790', '168', '0', '1494')\n",
            "('ncuxB8lxH6Y', \"The Hardest Video I've Had To Make\", 10, '994915', '57566', '445', '0', '13319')\n",
            "('LButXcZ57pc', \"Verifying that you're not a robot\", 1, '423135', '12744', '221', '0', '486')\n",
            "('tIfWZWxg9-4', 'Barcelona 4 - 0 Osasuna - HIGHLIGHTS & GOALS - 11/29/2020', 17, '892535', '11567', '365', '0', '1238')\n",
            "('U7Vl8ycfaYo', 'Rotimi - Love Somebody (Official Video)', 10, '1607850', '73912', '782', '0', '3385')\n",
            "('HpHqKtWyqCY', 'Jazmine Sullivan Performs ‘Lost Ones’ & ‘Pick Up Your Feelings’ | Soul Train Awards 20', 24, '378501', '20704', '160', '0', '1824')\n",
            "('o78HcBmKoqE', 'Turning Plastic Forks into ART with FIRE', 26, '608528', '57968', '430', '0', '4074')\n",
            "('tUwDFvqmjFY', 'Rainbow Six Siege: Neon Dawn Story Trailer | Ubisoft [NA]', 20, '483938', '29789', '555', '0', '2906')\n",
            "('Y9PSykRZFtQ', 'Seahawks vs. Eagles Week 12 Highlights | NFL 2020', 17, '1667115', '18464', '607', '0', '2939')\n",
            "('AClZ1-byZdo', '2020 Christmas Decorations at the White House', 25, '694960', '16061', '1849', '0', '5017')\n",
            "('PGFicrydZG0', '[최초공개] ENHYPEN - ♬Let Me In (20 CUBE) l ENHYPEN DEBUT SHOW : DAY ONE', 24, '4112178', '361489', '3610', '0', '26991')\n",
            "('pkaCzwner3M', 'Trixie Bakes A Chocolate Cake In The OG 1963 Easy Bake Oven *FAIL* (One Million Subscribers Video!)', 24, '560131', '59076', '263', '0', '4000')\n",
            "('PesJgr6k-Yg', 'Monica Performs A Medley Of Her Greatest Hits As The Lady of Soul | Soul Train Awards 20', 24, '449134', '14132', '324', '0', '1491')\n",
            "('mRexNg2pka4', 'Merkules on the Dr. Phil show.', 10, '185977', '10582', '103', '0', '1532')\n",
            "('s8oCOzGTBbg', 'I Spent $10,000 Achieving My Dream', 20, '3379696', '214668', '2622', '0', '19300')\n",
            "('gGbxhM7fv0I', \"Why I'm Moving, The Rest of the Story\", 22, '438865', '30726', '409', '0', '7462')\n",
            "('4oBpaBEMBIM', 'Character Demo - \"Zhongli: The Listener\" | Genshin Impact', 20, '2755400', '125273', '622', '0', '14368')\n",
            "('tXAOiehpzJ8', 'Evolution of how GALACTUS arrived in Fortnite Island Pt.2 (Full Time lapse) | Galactus Rising', 20, '837435', '18497', '414', '0', '1090')\n",
            "('FbQSWzKEJ64', 'Introducing My Son Dante For The First Time EVER! | Creator Spotlights', 24, '392684', '38266', '270', '0', '6817')\n",
            "('TehsP2tGF7o', 'Top 10 Mythbusters in Among Us | Among Us Myths', 20, '3077392', '120250', '3253', '0', '7535')\n",
            "('YKRpmafNsck', 'Deji Reacts To Jake Paul Vs Nate Robinson', 24, '1744640', '79262', '10424', '0', '5876')\n",
            "('U_je9S6z1fI', 'How Grosjean survived fireball Bahrain F1 crash that split his car in two', 17, '2237375', '25991', '834', '0', '2034')\n",
            "('FF3V5WXrcM0', 'TAKING DELIVERY OF MY FIRST SUPERCAR!!', 2, '331106', '20454', '355', '0', '3597')\n",
            "('jtzHswxoDqc', 'Mike Tyson reacts to Roy Jones Jr. fight: \"I think of myself as a roaring gladiator, like a ruler\"', 17, '1736950', '33843', '565', '0', '7577')\n",
            "('3qILcT3UyvQ', 'ROADTRIP TO SF *i cried*', 24, '2738258', '189560', '1509', '0', '7908')\n",
            "('VrdbrT5j6FY', 'Brandy Performs ‘Say Something & ‘Borderline’ At The 2020 Soul Train Awards', 24, '333475', '13540', '218', '0', '2116')\n",
            "('MhhdO-yOqlg', 'Jake Paul reacts to Nate Robinson KO; Promises Conor McGregor fight will happen', 17, '1152403', '19635', '3349', '0', '8684')\n",
            "('bdlKClqa5Ag', '29 Stupid Ways to Die in Among Us', 20, '1251050', '41425', '1456', '0', '2005')\n",
            "('HiITxbXAzCg', 'tough kids in movies', 23, '1145621', '121534', '562', '0', '2734')\n",
            "('-4ni0pcKZ4w', \"I CAN'T STOP ME (English Ver.)\", 10, '1966057', '270200', '2784', '0', '18730')\n",
            "('4eT8iVwayts', '8 Second AWD Audi RS 3 Vs Ken Block’s 1,400hp AWD Ford Mustang Hoonicorn // Hoonicorn Vs the World', 2, '2392906', '76534', '1145', '0', '6997')\n",
            "('P2wtyrjG3oU', 'Playing Among Us In Real Life!', 24, '14898646', '877729', '19147', '0', '50485')\n",
            "('nedusgCUZC4', 'Spinning an Apple until it Explodes at 28,500fps - The Slow Mo Guys', 24, '3700157', '197167', '1679', '0', '8282')\n",
            "('PKwEdgVwgzY', \"THE PREGNANCY RESULTS ARE IN!!! (WE'RE PREGNANT)\", 22, '176167', '15610', '136', '0', '2451')\n",
            "('1tE1t3cx_Vg', 'Tom Brady & Bruce Arians are Not Getting Along... & The Reason Why is Obvious (Tampa Bay Buccaneers)', 17, '465161', '9914', '521', '0', '2799')\n",
            "('L6rK3e7mwcI', 'When you accidentally write songs that already exist part 2', 23, '1401149', '153321', '570', '0', '6820')\n",
            "('tnNiSgovl4U', 'Alemán - Mi Tio Snoop Ft Snoop Dogg (Video Oficial)', 10, '7332972', '535765', '10872', '0', '24843')\n",
            "('j9hlfqaw4i8', 'Chiefs vs. Buccaneers Week 12 Highlights | NFL 2020', 17, '2432337', '24303', '761', '0', '5292')\n",
            "('bz2rQDmFmRk', 'Every YouTube Couple Ever', 23, '531666', '35695', '415', '0', '1632')\n",
            "('sBAavXmynRA', \"F1 drivers react to Romain Grosjean's horrific crash and miraculous escape from inferno\", 17, '1810662', '27473', '470', '0', '1641')\n",
            "('x_fxLHjl0iQ', \"NCT 2020 엔시티 2020 'RESONANCE' MV Teaser #1\", 10, '2496513', '579133', '1458', '0', '35273')\n",
            "('FqdxxSWKmw4', \"Can't Lose the Love Handles? Just Do THIS!!\", 26, '859806', '45880', '482', '0', '1435')\n",
            "('eVQif5Y7y58', 'Built Secret Treehouse City! *24 Hours*', 24, '701165', '27747', '471', '0', '1468')\n",
            "('sLuNgxflCDs', 'OUR OFFICIAL VLOGMAS INTRO! |RISS & QUAN', 22, '122919', '17328', '123', '0', '1603')\n",
            "('fqKgloNYL74', \"Mike Tyson vs Roy Jones Jr. Here's What Happened...\", 24, '478708', '10614', '651', '0', '3891')\n",
            "('iiQ7ykrf8dA', 'EXCLUSIVE: JAKE PAUL’S RAW REACTION MINUTES AFTER KNOCKING OUT NATE ROBINSON', 17, '855179', '12396', '1298', '0', '1600')\n",
            "('Jwmn8DprdWs', 'Southampton v. Manchester United | PREMIER LEAGUE HIGHLIGHTS | 11/29/2020 | NBC Sports', 17, '538527', '8528', '147', '0', '1153')\n",
            "('mM7C_Pw7OL8', 'Walking The Most Dangerous Path In Britain', 27, '930554', '72843', '263', '0', '2017')\n",
            "('hKuDtkSLVm8', 'Lil Wayne - BB King Freestyle feat. Drake | No Ceilings 3 (Official Audio)', 10, '2186437', '66273', '1735', '0', '6413')\n",
            "('-G15r96n3aY', '15 Years of Chris Brown', 10, '379989', '44967', '847', '0', '4077')\n",
            "('6eBS73uwVHs', 'How They Wrote Classic Christmas Songs', 23, '500400', '45778', '353', '0', '2927')\n",
            "('jVJOYWqX3G0', 'BTS \"BE\" Interview', 24, '658879', '89670', '194', '0', '4719')\n",
            "('OEVWuYVUsBs', 'Revolution of the Daleks: Release Date Trailer | Doctor Who', 24, '434676', '19443', '1695', '0', '4372')\n",
            "('YdyKr1WzmEg', '\"It is quite shocking to see the remnants\" | Ted Kravitz reports from the site of Grosjean\\'s crash', 17, '1086302', '15025', '351', '0', '1343')\n",
            "('bd_UM45ZH1o', '13 Types of Mobile Gamers', 23, '1396486', '60857', '1526', '0', '10420')\n",
            "('m4EraiedGRw', 'I Recreated *Iconic* Movie Scenes', 22, '519688', '70981', '417', '0', '5486')\n",
            "('shtgJJu7xIM', \"Dana White: Mike Tyson was 'f*cking awesome' in boxing comeback | UFC on ESPN 18 full interview\", 17, '387221', '3887', '202', '0', '978')\n",
            "('Q9VesBHp5PU', 'Rylo Rodriguez – Walk ft. Lil Baby & 42 Dugg (Official Music Video)', 24, '3167128', '63001', '2960', '0', '5252')\n",
            "('5wZzMyf6wLM', 'Cavani double seals comeback win for the Reds! | Southampton 2-3 Manchester United | Premier League', 17, '3870873', '76747', '1845', '0', '4157')\n",
            "('dfS6IT-W5xc', 'Reacting To Jake Paul vs Nate Robinson Memes LOL', 24, '782189', '34829', '668', '0', '2196')\n",
            "('nFNi9JgXaec', 'Quando Rondo - Have You Ever (Official Audio)', 10, '911803', '40414', '2836', '0', '6364')\n",
            "('uOJQbqwsfLg', 'I Made A Giant 100-Pound Boba Milk Tea •\\xa0Tasty', 26, '2617630', '114007', '1508', '0', '6948')\n",
            "('18adWnQpwPs', 'Mike Tyson v Roy Jones Jr final FACE OFF ahead of comeback fight', 17, '5849183', '54255', '1957', '0', '8998')\n",
            "('gm6yaxpXEUw', 'I Have a Confession to Make...', 20, '5465143', '533258', '8557', '0', '56829')\n",
            "('NUAKJTmJGW4', \"Telling Our Kids We're Pregnant\", 24, '491390', '28471', '408', '0', '4047')\n",
            "('hDkuUZ3F1GU', 'Minecraft Speedrunner VS 4 Hunters FINALE', 20, '21415586', '1609561', '17821', '0', '174482')\n",
            "('tMhhzOZlCkI', 'BARÇA PAY TRIBUTE TO DIEGO MARADONA', 17, '2135950', '54538', '1377', '0', '1563')\n"
          ],
          "name": "stdout"
        }
      ]
    },
    {
      "cell_type": "markdown",
      "metadata": {
        "id": "FQ7KD_JUPfon"
      },
      "source": [
        "## search channel by name"
      ]
    },
    {
      "cell_type": "code",
      "metadata": {
        "id": "ELC9NTgyMOA-"
      },
      "source": [
        "request = youtube.channels().list(\n",
        "        part=\"snippet,contentDetails,statistics\",\n",
        "        forUsername=\"VaatiVidya\"\n",
        "    )\n",
        "\n",
        "response = request.execute()"
      ],
      "execution_count": 99,
      "outputs": []
    },
    {
      "cell_type": "code",
      "metadata": {
        "colab": {
          "base_uri": "https://localhost:8080/"
        },
        "id": "jdIKomv8QaQb",
        "outputId": "0907c25c-66c8-4c7f-af2a-b57f492c3843"
      },
      "source": [
        "response"
      ],
      "execution_count": 100,
      "outputs": [
        {
          "output_type": "execute_result",
          "data": {
            "text/plain": [
              "{'etag': 'Ea3cAE4KHCCN8DhzhTWeYE7e_Mg',\n",
              " 'items': [{'contentDetails': {'relatedPlaylists': {'favorites': '',\n",
              "     'likes': '',\n",
              "     'uploads': 'UUe0DNp0mKMqrYVaTundyr9w'}},\n",
              "   'etag': 'Lw1Jb88WjbNSZ5dd9WYY4Xf1P8I',\n",
              "   'id': 'UCe0DNp0mKMqrYVaTundyr9w',\n",
              "   'kind': 'youtube#channel',\n",
              "   'snippet': {'country': 'AU',\n",
              "    'customUrl': 'vaatividya',\n",
              "    'description': \"Subscribe for regular DARK SOULS, DARK SOULS 2, DARK SOULS 3, DEMON'S SOULS, BLOODBORNE, and SEKIRO: SHADOWS DIE TWICE content!..Lore..Gameplay..Music..Animation..\\n\\nEvery video I upload is held to a certain standard. I emphasise Quality over Quantity and I don't want to clog up your feed with mediocre videos.\\n\\n====================\\n\\n-Aim for one video per week\\n\\n-Souls-like titles are at the heart of this channel\\n\\n-This channel is supported primarily through Patreon.com/vaatividya, not advertisements!\\n\\n====================\\n\\nHave a question or comment related to my videos? I respond best on ask-vaati, a Discord text channel for patrons-only.\\n\\nArtists may receive an email from soulartsbook@gmail.com\\n\\nBusiness-only Email below. DO NOT SEND LORE THEORIES TO MY EMAIL\",\n",
              "    'localized': {'description': \"Subscribe for regular DARK SOULS, DARK SOULS 2, DARK SOULS 3, DEMON'S SOULS, BLOODBORNE, and SEKIRO: SHADOWS DIE TWICE content!..Lore..Gameplay..Music..Animation..\\n\\nEvery video I upload is held to a certain standard. I emphasise Quality over Quantity and I don't want to clog up your feed with mediocre videos.\\n\\n====================\\n\\n-Aim for one video per week\\n\\n-Souls-like titles are at the heart of this channel\\n\\n-This channel is supported primarily through Patreon.com/vaatividya, not advertisements!\\n\\n====================\\n\\nHave a question or comment related to my videos? I respond best on ask-vaati, a Discord text channel for patrons-only.\\n\\nArtists may receive an email from soulartsbook@gmail.com\\n\\nBusiness-only Email below. DO NOT SEND LORE THEORIES TO MY EMAIL\",\n",
              "     'title': 'VaatiVidya'},\n",
              "    'publishedAt': '2012-03-01T22:53:55Z',\n",
              "    'thumbnails': {'default': {'height': 88,\n",
              "      'url': 'https://yt3.ggpht.com/ytc/AAUvwnhCENu98S1ZpS_qpqUiGmF7X6FV-5a-v0mJxd8OHw=s88-c-k-c0x00ffffff-no-rj',\n",
              "      'width': 88},\n",
              "     'high': {'height': 800,\n",
              "      'url': 'https://yt3.ggpht.com/ytc/AAUvwnhCENu98S1ZpS_qpqUiGmF7X6FV-5a-v0mJxd8OHw=s800-c-k-c0x00ffffff-no-rj',\n",
              "      'width': 800},\n",
              "     'medium': {'height': 240,\n",
              "      'url': 'https://yt3.ggpht.com/ytc/AAUvwnhCENu98S1ZpS_qpqUiGmF7X6FV-5a-v0mJxd8OHw=s240-c-k-c0x00ffffff-no-rj',\n",
              "      'width': 240}},\n",
              "    'title': 'VaatiVidya'},\n",
              "   'statistics': {'hiddenSubscriberCount': False,\n",
              "    'subscriberCount': '1660000',\n",
              "    'videoCount': '278',\n",
              "    'viewCount': '324075523'}}],\n",
              " 'kind': 'youtube#channelListResponse',\n",
              " 'pageInfo': {'resultsPerPage': 5, 'totalResults': 1}}"
            ]
          },
          "metadata": {
            "tags": []
          },
          "execution_count": 100
        }
      ]
    },
    {
      "cell_type": "code",
      "metadata": {
        "id": "m795HQYfqmKw"
      },
      "source": [
        "# insert the channel\n",
        "def search_channel_by_name(channel):\n",
        "  request = youtube.channels().list(\n",
        "        part=\"snippet,contentDetails,statistics\",\n",
        "        forUsername=\"VaatiVidya\"\n",
        "    )\n",
        "\n",
        "  response = request.execute()\n",
        "  if response['pageInfo']['totalResults'] > 0:\n",
        "    response = response['items'][0]\n",
        "    insert_to_channels(response)\n",
        "    return response"
      ],
      "execution_count": 101,
      "outputs": []
    },
    {
      "cell_type": "markdown",
      "metadata": {
        "id": "t0j5VtCPPpx4"
      },
      "source": [
        "## search all playlists in the channel"
      ]
    },
    {
      "cell_type": "code",
      "metadata": {
        "id": "X8DITBEJPtPm"
      },
      "source": [
        "request = youtube.playlists().list(\n",
        "        part=\"snippet,contentDetails\",\n",
        "        channelId=\"UCe0DNp0mKMqrYVaTundyr9w\",\n",
        "        maxResults=25\n",
        "    )\n",
        "response = request.execute()"
      ],
      "execution_count": 33,
      "outputs": []
    },
    {
      "cell_type": "code",
      "metadata": {
        "colab": {
          "base_uri": "https://localhost:8080/"
        },
        "id": "uVoDo9A5Rzmz",
        "outputId": "3b125c44-21a5-4a08-eb3f-7b399c05efdf"
      },
      "source": [
        "response['items'][8]"
      ],
      "execution_count": 34,
      "outputs": [
        {
          "output_type": "execute_result",
          "data": {
            "text/plain": [
              "{'contentDetails': {'itemCount': 6},\n",
              " 'etag': '_rboJCbBqqCVb8rjzWlsYBAh5ZQ',\n",
              " 'id': 'PLWLedd0Zw3c6U1WRZBx6eZ-BXprlfQelv',\n",
              " 'kind': 'youtube#playlist',\n",
              " 'snippet': {'channelId': 'UCe0DNp0mKMqrYVaTundyr9w',\n",
              "  'channelTitle': 'VaatiVidya',\n",
              "  'description': '',\n",
              "  'localized': {'description': '', 'title': 'Sekiro Lore'},\n",
              "  'publishedAt': '2019-05-03T04:15:44Z',\n",
              "  'thumbnails': {'default': {'height': 90,\n",
              "    'url': 'https://i.ytimg.com/vi/9OmfWCvwM9g/default.jpg',\n",
              "    'width': 120},\n",
              "   'high': {'height': 360,\n",
              "    'url': 'https://i.ytimg.com/vi/9OmfWCvwM9g/hqdefault.jpg',\n",
              "    'width': 480},\n",
              "   'maxres': {'height': 720,\n",
              "    'url': 'https://i.ytimg.com/vi/9OmfWCvwM9g/maxresdefault.jpg',\n",
              "    'width': 1280},\n",
              "   'medium': {'height': 180,\n",
              "    'url': 'https://i.ytimg.com/vi/9OmfWCvwM9g/mqdefault.jpg',\n",
              "    'width': 320},\n",
              "   'standard': {'height': 480,\n",
              "    'url': 'https://i.ytimg.com/vi/9OmfWCvwM9g/sddefault.jpg',\n",
              "    'width': 640}},\n",
              "  'title': 'Sekiro Lore'}}"
            ]
          },
          "metadata": {
            "tags": []
          },
          "execution_count": 34
        }
      ]
    },
    {
      "cell_type": "markdown",
      "metadata": {
        "id": "dCLfqfhFSFyu"
      },
      "source": [
        "## search all videos in a playlist"
      ]
    },
    {
      "cell_type": "markdown",
      "metadata": {
        "id": "X1YZ05Wvchph"
      },
      "source": [
        "This playlist has 6 items, and is displayed on 2 pages."
      ]
    },
    {
      "cell_type": "code",
      "metadata": {
        "id": "s4SJeuRGcaTq"
      },
      "source": [
        "request = youtube.playlistItems().list(\n",
        "        part=\"snippet,contentDetails\",\n",
        "        playlistId=\"PLWLedd0Zw3c6U1WRZBx6eZ-BXprlfQelv\"\n",
        "    )\n",
        "response = request.execute()"
      ],
      "execution_count": 36,
      "outputs": []
    },
    {
      "cell_type": "code",
      "metadata": {
        "colab": {
          "base_uri": "https://localhost:8080/"
        },
        "id": "qZG28ARvccw8",
        "outputId": "d13b96cb-44d9-4674-aa6b-7fedc562bdd1"
      },
      "source": [
        "response"
      ],
      "execution_count": 37,
      "outputs": [
        {
          "output_type": "execute_result",
          "data": {
            "text/plain": [
              "{'etag': 'y_VazzI_vwCRn1Eeky5-MNTxroA',\n",
              " 'items': [{'contentDetails': {'videoId': '9OmfWCvwM9g',\n",
              "    'videoPublishedAt': '2019-05-03T04:17:03Z'},\n",
              "   'etag': 'MF-8j5cV1wgXAskgMTgBL4DDTDM',\n",
              "   'id': 'UExXTGVkZDBadzNjNlUxV1JaQng2ZVotQlhwcmxmUWVsdi41NkI0NEY2RDEwNTU3Q0M2',\n",
              "   'kind': 'youtube#playlistItem',\n",
              "   'snippet': {'channelId': 'UCe0DNp0mKMqrYVaTundyr9w',\n",
              "    'channelTitle': 'VaatiVidya',\n",
              "    'description': \"It's lore time\\nSpecial thanks to:\\nTheParryGod, for the incredible footage in this vid ►https://bit.ly/2GWx3QS\\n►ZullietheWitch, for her modding work - https://bit.ly/2O2p8Ic\\n►Sanadsk, for extracting the dialogue - https://bit.ly/2bgwFLD\\n►Thumbnail art by John Devlin - https://bit.ly/2J02QEa\\n\\n\\nMERCHANDISE [buy a shirt]\\n►Check out the new Teespring design: https://bit.ly/2LsWkH6\\n\\n\\nKINDLE THE CHANNEL [become a patron]\\n►http://www.patreon.com/vaatividya\\n\\n\\nSUBSCRIBE TO HUMBLE [cheap monthly games]\\n►https://www.humblebundle.com/monthly?partner=vaatividya\\n\\n\\nTRANSLATE MY VIDEOS\\n►Know a second language? You could help bring my videos to a wider audience: http://bit.ly/2fB71WW\\n\\n\\nPLAYLISTS\\n►My Best Videos: http://bit.ly/2oMp66a\\n►Dark Souls 3 Lore: http://bit.ly/2n0bU13\\n►Dark Souls 3 News: http://bit.ly/1NQbgbW\\n►Bloodborne Lore: http://bit.ly/1X9doOQ\\n►Demon's Souls Lore: http://bit.ly/16mIF86\\n►Dark Souls Remastered Lore: http://bit.ly/13x6nNs\\n►Dark Souls 2 Lore: http://bit.ly/1dedWjI\\n►Souls-like: http://bit.ly/1xCPDnu\\n\\n\\nSOCIAL\\n►Follow me on Twitter: https://twitter.com/VaatiVidya\\n►Follow me on Tumblr: http://vaatividya.tumblr.com/\\n►Follow me on Twitch.tv: http://www.twitch.tv/vaatividya\\n►Follow me on Facebook: https://www.facebook.com/Vaatividya\\n►Follow me on Patreon: http://www.patreon.com/vaatividya\\n►Join me on Discord: http://discord.gg/vaatividya\\n\\n\\nTHUMBNAIL ART\\n►\\n\\n\\nMUSIC (most is royalty-free or licensed from Epidemic Sound (https://www.youtube.com/user/WeAreEpidemicSound))\\n►\\n►\\n►\\n►\\n\\n\\nSPECIAL THANKS\\n►To all major contributors on CE tables - your work makes video creation so much easier.\\n\\n\\nPATRONS\\n►I'd like to give sincere thanks to all my patrons - your contributions have changed the course of my life, allowing me to put more emphasis on video production in the future.\\n\\n\\n►Special thanks to Soul of Cinder-tier Patrons: Shaq, Auris, Ali, Joshua, Christina, Saud, James, Philip, AJ, Stargeryen, Dread, Requiem, Mitchell, Ash, & Ricky. You've all changed the course of my life, and allowed me to do what I love.\",\n",
              "    'playlistId': 'PLWLedd0Zw3c6U1WRZBx6eZ-BXprlfQelv',\n",
              "    'position': 0,\n",
              "    'publishedAt': '2019-05-03T04:17:08Z',\n",
              "    'resourceId': {'kind': 'youtube#video', 'videoId': '9OmfWCvwM9g'},\n",
              "    'thumbnails': {'default': {'height': 90,\n",
              "      'url': 'https://i.ytimg.com/vi/9OmfWCvwM9g/default.jpg',\n",
              "      'width': 120},\n",
              "     'high': {'height': 360,\n",
              "      'url': 'https://i.ytimg.com/vi/9OmfWCvwM9g/hqdefault.jpg',\n",
              "      'width': 480},\n",
              "     'maxres': {'height': 720,\n",
              "      'url': 'https://i.ytimg.com/vi/9OmfWCvwM9g/maxresdefault.jpg',\n",
              "      'width': 1280},\n",
              "     'medium': {'height': 180,\n",
              "      'url': 'https://i.ytimg.com/vi/9OmfWCvwM9g/mqdefault.jpg',\n",
              "      'width': 320},\n",
              "     'standard': {'height': 480,\n",
              "      'url': 'https://i.ytimg.com/vi/9OmfWCvwM9g/sddefault.jpg',\n",
              "      'width': 640}},\n",
              "    'title': \"Explaining the First Half of Sekiro: Shadows Die Twice's Story\"}},\n",
              "  {'contentDetails': {'videoId': 'VHgw2RGBBpc',\n",
              "    'videoPublishedAt': '2019-05-23T15:05:34Z'},\n",
              "   'etag': 'riEba7GnxnkHe3RBcSHYZTQx6qE',\n",
              "   'id': 'UExXTGVkZDBadzNjNlUxV1JaQng2ZVotQlhwcmxmUWVsdi4yODlGNEE0NkRGMEEzMEQy',\n",
              "   'kind': 'youtube#playlistItem',\n",
              "   'snippet': {'channelId': 'UCe0DNp0mKMqrYVaTundyr9w',\n",
              "    'channelTitle': 'VaatiVidya',\n",
              "    'description': \"I wanted to go deeper on Kotaro and ROBERTOOooₒₒₒₒ... but let's leave them for Shadows Cry Twice, shall we? \\n►Footage by TheParryGod: https://www.youtube.com/user/xricsx\\n►Special thanks to  https://www.youtube.com/warpchair, who made the footage possible\\n►Check out the new Teespring design: https://bit.ly/2LsWkH6\\n\\n\\nKINDLE THE CHANNEL [become a patron]\\n►http://www.patreon.com/vaatividya\\n\\n\\nSUBSCRIBE TO HUMBLE [cheap monthly games]\\n►https://www.humblebundle.com/monthly?partner=vaatividya\\n\\n\\nTRANSLATE MY VIDEOS\\n►Know a second language? You could help bring my videos to a wider audience: http://bit.ly/2fB71WW\\n\\n\\nPLAYLISTS\\n►My Best Videos: http://bit.ly/2oMp66a\\n►Dark Souls 3 Lore: http://bit.ly/2n0bU13\\n►Dark Souls 3 News: http://bit.ly/1NQbgbW\\n►Bloodborne Lore: http://bit.ly/1X9doOQ\\n►Demon's Souls Lore: http://bit.ly/16mIF86\\n►Dark Souls Remastered Lore: http://bit.ly/13x6nNs\\n►Dark Souls 2 Lore: http://bit.ly/1dedWjI\\n►Souls-like: http://bit.ly/1xCPDnu\\n\\n\\nSOCIAL\\n►Follow me on Twitter: https://twitter.com/VaatiVidya\\n►Follow me on Tumblr: http://vaatividya.tumblr.com/\\n►Follow me on Twitch.tv: http://www.twitch.tv/vaatividya\\n►Follow me on Facebook: https://www.facebook.com/Vaatividya\\n►Follow me on Patreon: http://www.patreon.com/vaatividya\\n►Join me on Discord: http://discord.gg/vaatividya\\n\\n\\nTHUMBNAIL ART\\n►\\n\\n\\nMUSIC (most is royalty-free or licensed from Epidemic Sound (https://www.youtube.com/user/WeAreEpidemicSound))\\n►\\n►\\n►\\n►\\n\\n\\nSPECIAL THANKS\\n►To all major contributors on CE tables - your work makes video creation so much easier.\\n\\n\\nPATRONS\\n►I'd like to give sincere thanks to all my patrons - your contributions have changed the course of my life, allowing me to put more emphasis on video production in the future.\\n\\n\\n►Special thanks to Soul of Cinder-tier Patrons: Keith, Dachgiraffe, NightFury, Auris, Ali, Christina, Saud, James, Phillip, AJ, Stargeryen, Dread, Requiem, Mitchell, Ash, and Ricky.\",\n",
              "    'playlistId': 'PLWLedd0Zw3c6U1WRZBx6eZ-BXprlfQelv',\n",
              "    'position': 1,\n",
              "    'publishedAt': '2019-05-23T15:05:36Z',\n",
              "    'resourceId': {'kind': 'youtube#video', 'videoId': 'VHgw2RGBBpc'},\n",
              "    'thumbnails': {'default': {'height': 90,\n",
              "      'url': 'https://i.ytimg.com/vi/VHgw2RGBBpc/default.jpg',\n",
              "      'width': 120},\n",
              "     'high': {'height': 360,\n",
              "      'url': 'https://i.ytimg.com/vi/VHgw2RGBBpc/hqdefault.jpg',\n",
              "      'width': 480},\n",
              "     'maxres': {'height': 720,\n",
              "      'url': 'https://i.ytimg.com/vi/VHgw2RGBBpc/maxresdefault.jpg',\n",
              "      'width': 1280},\n",
              "     'medium': {'height': 180,\n",
              "      'url': 'https://i.ytimg.com/vi/VHgw2RGBBpc/mqdefault.jpg',\n",
              "      'width': 320},\n",
              "     'standard': {'height': 480,\n",
              "      'url': 'https://i.ytimg.com/vi/VHgw2RGBBpc/sddefault.jpg',\n",
              "      'width': 640}},\n",
              "    'title': \"The Story of Sekiro ► Senpou Temple and the Dragon's Return\"}},\n",
              "  {'contentDetails': {'videoId': '30EDDCxKr14',\n",
              "    'videoPublishedAt': '2019-06-19T12:19:28Z'},\n",
              "   'etag': 'FnH5myU1iSBYs1n6p3-FnKfuU-0',\n",
              "   'id': 'UExXTGVkZDBadzNjNlUxV1JaQng2ZVotQlhwcmxmUWVsdi4wMTcyMDhGQUE4NTIzM0Y5',\n",
              "   'kind': 'youtube#playlistItem',\n",
              "   'snippet': {'channelId': 'UCe0DNp0mKMqrYVaTundyr9w',\n",
              "    'channelTitle': 'VaatiVidya',\n",
              "    'description': \"Deepest Lore\\n►Gorgeous footage commissioned from ParryGod - https://bit.ly/2x5xvYQ\\n►Check out the new Teespring design: https://bit.ly/2LsWkH6\\n\\n\\nKINDLE THE CHANNEL [become a patron]\\n►http://www.patreon.com/vaatividya\\n\\n\\nSUBSCRIBE TO HUMBLE [cheap monthly games]\\n►https://www.humblebundle.com/monthly?partner=vaatividya\\n\\n\\nTRANSLATE MY VIDEOS\\n►Know a second language? You could help bring my videos to a wider audience: http://bit.ly/2fB71WW\\n\\n\\nPLAYLISTS\\n►My Best Videos: http://bit.ly/2oMp66a\\n►Elden Ring News: https://bit.ly/2ZkDV2d\\n►Sekiro Lore: https://bit.ly/2KGEzD1\\n►Sekiro Secrets: https://bit.ly/2IsObhW\\n►►Dark Souls 3 Lore: http://bit.ly/2n0bU13\\n►Dark Souls 3 News: http://bit.ly/1NQbgbW\\n►Bloodborne Lore: http://bit.ly/1X9doOQ\\n►Demon's Souls Lore: http://bit.ly/16mIF86\\n►Dark Souls Remastered Lore: http://bit.ly/13x6nNs\\n►Dark Souls 2 Lore: http://bit.ly/1dedWjI\\n►Souls-like: http://bit.ly/1xCPDnu\\n\\n\\nSOCIAL\\n►Follow me on Twitter: https://twitter.com/VaatiVidya\\n►Follow me on Tumblr: http://vaatividya.tumblr.com/\\n►Follow me on Twitch.tv: http://www.twitch.tv/vaatividya\\n►Follow me on Facebook: https://www.facebook.com/Vaatividya\\n►Follow me on Patreon: http://www.patreon.com/vaatividya\\n►Join me on Discord: http://discord.gg/vaatividya\\n\\n\\nTHUMBNAIL ART\\n►\\n\\n\\nMUSIC (most is royalty-free or licensed from Epidemic Sound (https://www.youtube.com/user/WeAreEpidemicSound))\\n►\\n►\\n►\\n►\\n\\n\\nSPECIAL THANKS\\n►To all major contributors on CE tables - your work makes video creation so much easier.\\n\\n\\nPATRONS\\n►I'd like to give sincere thanks to all my patrons - your contributions have changed the course of my life, allowing me to put more emphasis on video production in the future.\\n\\n\\n►Special thanks to Soul of Cinder-tier Patrons: Keith, Dachgiraffe, NightFury, Auris, Ali, Christina, Saud, James, Phillip, AJ, Stargeryen, Dread, Requiem, Mitchell, Ash, and Ricky.\",\n",
              "    'playlistId': 'PLWLedd0Zw3c6U1WRZBx6eZ-BXprlfQelv',\n",
              "    'position': 2,\n",
              "    'publishedAt': '2019-06-19T12:19:33Z',\n",
              "    'resourceId': {'kind': 'youtube#video', 'videoId': '30EDDCxKr14'},\n",
              "    'thumbnails': {'default': {'height': 90,\n",
              "      'url': 'https://i.ytimg.com/vi/30EDDCxKr14/default.jpg',\n",
              "      'width': 120},\n",
              "     'high': {'height': 360,\n",
              "      'url': 'https://i.ytimg.com/vi/30EDDCxKr14/hqdefault.jpg',\n",
              "      'width': 480},\n",
              "     'maxres': {'height': 720,\n",
              "      'url': 'https://i.ytimg.com/vi/30EDDCxKr14/maxresdefault.jpg',\n",
              "      'width': 1280},\n",
              "     'medium': {'height': 180,\n",
              "      'url': 'https://i.ytimg.com/vi/30EDDCxKr14/mqdefault.jpg',\n",
              "      'width': 320},\n",
              "     'standard': {'height': 480,\n",
              "      'url': 'https://i.ytimg.com/vi/30EDDCxKr14/sddefault.jpg',\n",
              "      'width': 640}},\n",
              "    'title': 'The Story of Sekiro ► Old Gods of the Sunken Valley'}},\n",
              "  {'contentDetails': {'videoId': 'k7HfotNxG38',\n",
              "    'videoPublishedAt': '2019-07-14T13:34:31Z'},\n",
              "   'etag': 'VgjobG1dy5_UHfaqmAD_lDeAi7s',\n",
              "   'id': 'UExXTGVkZDBadzNjNlUxV1JaQng2ZVotQlhwcmxmUWVsdi41MjE1MkI0OTQ2QzJGNzNG',\n",
              "   'kind': 'youtube#playlistItem',\n",
              "   'snippet': {'channelId': 'UCe0DNp0mKMqrYVaTundyr9w',\n",
              "    'channelTitle': 'VaatiVidya',\n",
              "    'description': \"Check out the new Teespring design below!\\n►Fate of Kings [Red Bronze]: https://bit.ly/2YXQEs4\\n►Fate of Kings [Lineart]: https://bit.ly/2LrPcer\\n►Fate of Kings [Lineart on Black]: https://bit.ly/2NXzZ6V\\nKINDLE THE CHANNEL [become a patron]\\n►http://www.patreon.com/vaatividya\\n\\n\\nSUBSCRIBE TO HUMBLE [cheap monthly games]\\n►https://www.humblebundle.com/monthly?partner=vaatividya\\n\\n\\nTRANSLATE MY VIDEOS\\n►Know a second language? You could help bring my videos to a wider audience: http://bit.ly/2fB71WW\\n\\n\\nPLAYLISTS\\n►My Best Videos: http://bit.ly/2oMp66a\\n►Elden Ring News: https://bit.ly/2ZkDV2d\\n►Sekiro Lore: https://bit.ly/2KGEzD1\\n►Sekiro Secrets: https://bit.ly/2IsObhW\\n►►Dark Souls 3 Lore: http://bit.ly/2n0bU13\\n►Dark Souls 3 News: http://bit.ly/1NQbgbW\\n►Bloodborne Lore: http://bit.ly/1X9doOQ\\n►Demon's Souls Lore: http://bit.ly/16mIF86\\n►Dark Souls Remastered Lore: http://bit.ly/13x6nNs\\n►Dark Souls 2 Lore: http://bit.ly/1dedWjI\\n►Souls-like: http://bit.ly/1xCPDnu\\n\\n\\nSOCIAL\\n►Follow me on Twitter: https://twitter.com/VaatiVidya\\n►Follow me on Tumblr: http://vaatividya.tumblr.com/\\n►Follow me on Twitch.tv: http://www.twitch.tv/vaatividya\\n►Follow me on Facebook: https://www.facebook.com/Vaatividya\\n►Follow me on Patreon: http://www.patreon.com/vaatividya\\n►Join me on Discord: http://discord.gg/vaatividya\\n\\n\\nTHUMBNAIL ART\\n►\\n\\n\\nMUSIC (most is royalty-free or licensed from Epidemic Sound (https://www.youtube.com/user/WeAreEpidemicSound))\\n►\\n►\\n►\\n►\\n\\n\\nSPECIAL THANKS\\n►To all major contributors on CE tables - your work makes video creation so much easier.\\n\\n\\nPATRONS\\n►I'd like to give sincere thanks to all my patrons - your contributions have changed the course of my life, allowing me to put more emphasis on video production in the future.\\n\\n\\n►Special thanks to Soul of Cinder-tier Patrons: Keith, Dachgiraffe, NightFury, Auris, Ali, Christina, Saud, James, Phillip, AJ, Stargeryen, Dread, Requiem, Mitchell, Ash, and Ricky.\",\n",
              "    'playlistId': 'PLWLedd0Zw3c6U1WRZBx6eZ-BXprlfQelv',\n",
              "    'position': 3,\n",
              "    'publishedAt': '2019-07-14T13:34:33Z',\n",
              "    'resourceId': {'kind': 'youtube#video', 'videoId': 'k7HfotNxG38'},\n",
              "    'thumbnails': {'default': {'height': 90,\n",
              "      'url': 'https://i.ytimg.com/vi/k7HfotNxG38/default.jpg',\n",
              "      'width': 120},\n",
              "     'high': {'height': 360,\n",
              "      'url': 'https://i.ytimg.com/vi/k7HfotNxG38/hqdefault.jpg',\n",
              "      'width': 480},\n",
              "     'maxres': {'height': 720,\n",
              "      'url': 'https://i.ytimg.com/vi/k7HfotNxG38/maxresdefault.jpg',\n",
              "      'width': 1280},\n",
              "     'medium': {'height': 180,\n",
              "      'url': 'https://i.ytimg.com/vi/k7HfotNxG38/mqdefault.jpg',\n",
              "      'width': 320},\n",
              "     'standard': {'height': 480,\n",
              "      'url': 'https://i.ytimg.com/vi/k7HfotNxG38/sddefault.jpg',\n",
              "      'width': 640}},\n",
              "    'title': 'The Story of Sekiro ► A Village in the Mists'}},\n",
              "  {'contentDetails': {'videoId': 'HDaPHgMCbJU',\n",
              "    'videoPublishedAt': '2019-08-03T07:11:15Z'},\n",
              "   'etag': '7X9SVCaNJ7NGT-5aX66Ce074PaA',\n",
              "   'id': 'UExXTGVkZDBadzNjNlUxV1JaQng2ZVotQlhwcmxmUWVsdi4wOTA3OTZBNzVEMTUzOTMy',\n",
              "   'kind': 'youtube#playlistItem',\n",
              "   'snippet': {'channelId': 'UCe0DNp0mKMqrYVaTundyr9w',\n",
              "    'channelTitle': 'VaatiVidya',\n",
              "    'description': \"►Merchandise by Vaati at https://vaatividya.com/\\n\\nNote: Discount code has expired\\n\\n\\nKINDLE THE CHANNEL [become a patron]\\n►http://www.patreon.com/vaatividya\\n\\n\\nLINKS\\nSarumaro's reddit theory was where I first read of this connection - https://www.reddit.com/r/Sekiro/comments/c3df3i/the_true_monks_lore_or_why_sekiro_wasnt_designed/\\n\\n\\nSUBSCRIBE TO HUMBLE [cheap monthly games]\\n►https://www.humblebundle.com/monthly?partner=vaatividya\\n\\n\\nTRANSLATE MY VIDEOS\\n►Know a second language? You could help bring my videos to a wider audience: http://bit.ly/2fB71WW\\n\\n\\nPLAYLISTS\\n►My Best Videos: http://bit.ly/2oMp66a\\n►Elden Ring News: https://bit.ly/2ZkDV2d\\n►Sekiro Lore: https://bit.ly/2KGEzD1\\n►Sekiro Secrets: https://bit.ly/2IsObhW\\n►►Dark Souls 3 Lore: http://bit.ly/2n0bU13\\n►Dark Souls 3 News: http://bit.ly/1NQbgbW\\n►Bloodborne Lore: http://bit.ly/1X9doOQ\\n►Demon's Souls Lore: http://bit.ly/16mIF86\\n►Dark Souls Remastered Lore: http://bit.ly/13x6nNs\\n►Dark Souls 2 Lore: http://bit.ly/1dedWjI\\n►Souls-like: http://bit.ly/1xCPDnu\\n\\n\\nSOCIAL\\n►Follow me on Twitter: https://twitter.com/VaatiVidya\\n►Follow me on Tumblr: http://vaatividya.tumblr.com/\\n►Follow me on Twitch.tv: http://www.twitch.tv/vaatividya\\n►Follow me on Facebook: https://www.facebook.com/Vaatividya\\n►Follow me on Patreon: http://www.patreon.com/vaatividya\\n►Join me on Discord: http://discord.gg/vaatividya\\n\\n\\nTHUMBNAIL ART\\n►John Devlin\\n\\n\\nMUSIC (most is royalty-free or licensed from Epidemic Sound (https://www.youtube.com/user/WeAreEpidemicSound))\\n►ES_The Norman Kings - Bonnie Grace\\n►ES_Tiny Tremors 2 - Jack Elphick\\n►ES_Seeking the Divine - Edward Joe Myers\\n►ES_Floating In Space 2 - Johannes Bornlöf\\n►ES_Seed of Life - Edward Joe Myers\\n►ES_Our Last Hope Finale - Dragon Tamer\\n►ES_Nobody Bothers - Edward Joe Myers\\n►ES_Citadels - Jo Wandrini\\n►ES_The Sound Of Arrows - Johannes Bornlöf\\n\\n\\nSPECIAL THANKS\\n►To all major contributors on CE tables - your work makes video creation so much easier.\\n\\n\\nPATRONS\\n►I'd like to give sincere thanks to all my patrons - your contributions have changed the course of my life, allowing me to put more emphasis on video production in the future.\\n\\n\\n►Special thanks to Soul of Cinder-tier Patrons: Keith, Dachgiraffe, NightFury, Auris, Ali, Christina, Saud, James, Phillip, AJ, Stargeryen, Dread, Requiem, Mitchell, Ash, and Ricky.\",\n",
              "    'playlistId': 'PLWLedd0Zw3c6U1WRZBx6eZ-BXprlfQelv',\n",
              "    'position': 4,\n",
              "    'publishedAt': '2019-08-03T07:11:18Z',\n",
              "    'resourceId': {'kind': 'youtube#video', 'videoId': 'HDaPHgMCbJU'},\n",
              "    'thumbnails': {'default': {'height': 90,\n",
              "      'url': 'https://i.ytimg.com/vi/HDaPHgMCbJU/default.jpg',\n",
              "      'width': 120},\n",
              "     'high': {'height': 360,\n",
              "      'url': 'https://i.ytimg.com/vi/HDaPHgMCbJU/hqdefault.jpg',\n",
              "      'width': 480},\n",
              "     'maxres': {'height': 720,\n",
              "      'url': 'https://i.ytimg.com/vi/HDaPHgMCbJU/maxresdefault.jpg',\n",
              "      'width': 1280},\n",
              "     'medium': {'height': 180,\n",
              "      'url': 'https://i.ytimg.com/vi/HDaPHgMCbJU/mqdefault.jpg',\n",
              "      'width': 320},\n",
              "     'standard': {'height': 480,\n",
              "      'url': 'https://i.ytimg.com/vi/HDaPHgMCbJU/sddefault.jpg',\n",
              "      'width': 640}},\n",
              "    'title': 'The Story of Sekiro ► The Legend of Fountainhead Palace'}}],\n",
              " 'kind': 'youtube#playlistItemListResponse',\n",
              " 'nextPageToken': 'CAUQAA',\n",
              " 'pageInfo': {'resultsPerPage': 5, 'totalResults': 6}}"
            ]
          },
          "metadata": {
            "tags": []
          },
          "execution_count": 37
        }
      ]
    },
    {
      "cell_type": "code",
      "metadata": {
        "id": "TGFHRBi5SFPo"
      },
      "source": [
        "request = youtube.playlistItems().list(\n",
        "        part=\"snippet,contentDetails\",\n",
        "        playlistId=\"PLWLedd0Zw3c6U1WRZBx6eZ-BXprlfQelv\",\n",
        "        pageToken = \"CAUQAA\"\n",
        "    )\n",
        "response = request.execute()\n"
      ],
      "execution_count": 52,
      "outputs": []
    },
    {
      "cell_type": "code",
      "metadata": {
        "colab": {
          "base_uri": "https://localhost:8080/"
        },
        "id": "_4ru0kvwbGmP",
        "outputId": "64d5d019-15e1-4405-dd0d-1ceedc3e09d0"
      },
      "source": [
        "response"
      ],
      "execution_count": 53,
      "outputs": [
        {
          "output_type": "execute_result",
          "data": {
            "text/plain": [
              "{'etag': 'iog4tKJSDiCVy-LNk-SRZv_xO1M',\n",
              " 'items': [{'contentDetails': {'videoId': 'x8IfGeHAq4o',\n",
              "    'videoPublishedAt': '2019-08-20T01:35:05Z'},\n",
              "   'etag': 'gr6hPIpub-1dECR1XR43yMNLhF0',\n",
              "   'id': 'UExXTGVkZDBadzNjNlUxV1JaQng2ZVotQlhwcmxmUWVsdi4xMkVGQjNCMUM1N0RFNEUx',\n",
              "   'kind': 'youtube#playlistItem',\n",
              "   'snippet': {'channelId': 'UCe0DNp0mKMqrYVaTundyr9w',\n",
              "    'channelTitle': 'VaatiVidya',\n",
              "    'description': \"Folklore best lore\\n►Read more from Zirael - https://www.reddit.com/user/ziraelxx\\n►Merchandise by Vaati at https://vaatividya.com/\\n►Find Zirael on VK - https://vk.com/ziraelxx\\n\\nKINDLE THE CHANNEL [become a patron]\\n►http://www.patreon.com/vaatividya\\n\\n\\nSUBSCRIBE TO HUMBLE [cheap monthly games]\\n►https://www.humblebundle.com/monthly?partner=vaatividya\\n\\n\\nTRANSLATE MY VIDEOS\\n►Know a second language? You could help bring my videos to a wider audience: http://bit.ly/2fB71WW\\n\\n\\nPLAYLISTS\\n►My Best Videos: http://bit.ly/2oMp66a\\n►Elden Ring News: https://bit.ly/2ZkDV2d\\n►Sekiro Lore: https://bit.ly/2KGEzD1\\n►Sekiro Secrets: https://bit.ly/2IsObhW\\n►►Dark Souls 3 Lore: http://bit.ly/2n0bU13\\n►Dark Souls 3 News: http://bit.ly/1NQbgbW\\n►Bloodborne Lore: http://bit.ly/1X9doOQ\\n►Demon's Souls Lore: http://bit.ly/16mIF86\\n►Dark Souls Remastered Lore: http://bit.ly/13x6nNs\\n►Dark Souls 2 Lore: http://bit.ly/1dedWjI\\n►Souls-like: http://bit.ly/1xCPDnu\\n\\n\\nSOCIAL\\n►Follow me on Twitter: https://twitter.com/VaatiVidya\\n►Follow me on Tumblr: http://vaatividya.tumblr.com/\\n►Follow me on Twitch.tv: http://www.twitch.tv/vaatividya\\n►Follow me on Facebook: https://www.facebook.com/Vaatividya\\n►Follow me on Patreon: http://www.patreon.com/vaatividya\\n►Join me on Discord: http://discord.gg/vaatividya\\n\\n\\nTHUMBNAIL ART\\n►\\n\\n\\nMUSIC (most is royalty-free or licensed from Epidemic Sound (https://www.youtube.com/user/WeAreEpidemicSound))\\n►\\n►\\n►\\n►\\n\\n\\nSPECIAL THANKS\\n►To all major contributors on CE tables - your work makes video creation so much easier.\\n\\n\\nPATRONS\\n►I'd like to give sincere thanks to all my patrons - your contributions have changed the course of my life, allowing me to put more emphasis on video production in the future.\\n\\n\\n►Special thanks to Soul of Cinder-tier Patrons: Keith, Dachgiraffe, NightFury, Auris, Ali, Christina, Saud, James, Phillip, AJ, Stargeryen, Dread, Requiem, Mitchell, Ash, and Ricky.\",\n",
              "    'playlistId': 'PLWLedd0Zw3c6U1WRZBx6eZ-BXprlfQelv',\n",
              "    'position': 5,\n",
              "    'publishedAt': '2019-08-20T01:35:07Z',\n",
              "    'resourceId': {'kind': 'youtube#video', 'videoId': 'x8IfGeHAq4o'},\n",
              "    'thumbnails': {'default': {'height': 90,\n",
              "      'url': 'https://i.ytimg.com/vi/x8IfGeHAq4o/default.jpg',\n",
              "      'width': 120},\n",
              "     'high': {'height': 360,\n",
              "      'url': 'https://i.ytimg.com/vi/x8IfGeHAq4o/hqdefault.jpg',\n",
              "      'width': 480},\n",
              "     'maxres': {'height': 720,\n",
              "      'url': 'https://i.ytimg.com/vi/x8IfGeHAq4o/maxresdefault.jpg',\n",
              "      'width': 1280},\n",
              "     'medium': {'height': 180,\n",
              "      'url': 'https://i.ytimg.com/vi/x8IfGeHAq4o/mqdefault.jpg',\n",
              "      'width': 320},\n",
              "     'standard': {'height': 480,\n",
              "      'url': 'https://i.ytimg.com/vi/x8IfGeHAq4o/sddefault.jpg',\n",
              "      'width': 640}},\n",
              "    'title': '10 Japanese Secrets in Sekiro: Shadows Die Twice'}}],\n",
              " 'kind': 'youtube#playlistItemListResponse',\n",
              " 'pageInfo': {'resultsPerPage': 5, 'totalResults': 6},\n",
              " 'prevPageToken': 'CAUQAQ'}"
            ]
          },
          "metadata": {
            "tags": []
          },
          "execution_count": 53
        }
      ]
    },
    {
      "cell_type": "code",
      "metadata": {
        "id": "GqKw15ZkgaSI"
      },
      "source": [
        "request = youtube.videos().list(\n",
        "    part = \"snippet,contentDetails,statistics\",\n",
        "    id = response['items'][0]['contentDetails']['videoId']\n",
        ")\n",
        "response = request.execute()"
      ],
      "execution_count": 54,
      "outputs": []
    },
    {
      "cell_type": "code",
      "metadata": {
        "colab": {
          "base_uri": "https://localhost:8080/"
        },
        "id": "nrHL_gk2gmHi",
        "outputId": "55ba88b4-376c-4d32-be61-5653b9be3225"
      },
      "source": [
        "response"
      ],
      "execution_count": 55,
      "outputs": [
        {
          "output_type": "execute_result",
          "data": {
            "text/plain": [
              "{'etag': 'DQWdRbPbmADvTms45mz3hHS4Tnw',\n",
              " 'items': [{'contentDetails': {'caption': 'false',\n",
              "    'contentRating': {},\n",
              "    'definition': 'hd',\n",
              "    'dimension': '2d',\n",
              "    'duration': 'PT14M25S',\n",
              "    'licensedContent': True,\n",
              "    'projection': 'rectangular'},\n",
              "   'etag': 'ZVnYeGnYklcIoJ3njAQz3c-Twok',\n",
              "   'id': 'x8IfGeHAq4o',\n",
              "   'kind': 'youtube#video',\n",
              "   'snippet': {'categoryId': '20',\n",
              "    'channelId': 'UCe0DNp0mKMqrYVaTundyr9w',\n",
              "    'channelTitle': 'VaatiVidya',\n",
              "    'defaultAudioLanguage': 'en',\n",
              "    'defaultLanguage': 'en',\n",
              "    'description': \"Folklore best lore\\n►Read more from Zirael - https://www.reddit.com/user/ziraelxx\\n►Merchandise by Vaati at https://vaatividya.com/\\n►Find Zirael on VK - https://vk.com/ziraelxx\\n\\nKINDLE THE CHANNEL [become a patron]\\n►http://www.patreon.com/vaatividya\\n\\n\\nSUBSCRIBE TO HUMBLE [cheap monthly games]\\n►https://www.humblebundle.com/monthly?partner=vaatividya\\n\\n\\nTRANSLATE MY VIDEOS\\n►Know a second language? You could help bring my videos to a wider audience: http://bit.ly/2fB71WW\\n\\n\\nPLAYLISTS\\n►My Best Videos: http://bit.ly/2oMp66a\\n►Elden Ring News: https://bit.ly/2ZkDV2d\\n►Sekiro Lore: https://bit.ly/2KGEzD1\\n►Sekiro Secrets: https://bit.ly/2IsObhW\\n►►Dark Souls 3 Lore: http://bit.ly/2n0bU13\\n►Dark Souls 3 News: http://bit.ly/1NQbgbW\\n►Bloodborne Lore: http://bit.ly/1X9doOQ\\n►Demon's Souls Lore: http://bit.ly/16mIF86\\n►Dark Souls Remastered Lore: http://bit.ly/13x6nNs\\n►Dark Souls 2 Lore: http://bit.ly/1dedWjI\\n►Souls-like: http://bit.ly/1xCPDnu\\n\\n\\nSOCIAL\\n►Follow me on Twitter: https://twitter.com/VaatiVidya\\n►Follow me on Tumblr: http://vaatividya.tumblr.com/\\n►Follow me on Twitch.tv: http://www.twitch.tv/vaatividya\\n►Follow me on Facebook: https://www.facebook.com/Vaatividya\\n►Follow me on Patreon: http://www.patreon.com/vaatividya\\n►Join me on Discord: http://discord.gg/vaatividya\\n\\n\\nTHUMBNAIL ART\\n►\\n\\n\\nMUSIC (most is royalty-free or licensed from Epidemic Sound (https://www.youtube.com/user/WeAreEpidemicSound))\\n►\\n►\\n►\\n►\\n\\n\\nSPECIAL THANKS\\n►To all major contributors on CE tables - your work makes video creation so much easier.\\n\\n\\nPATRONS\\n►I'd like to give sincere thanks to all my patrons - your contributions have changed the course of my life, allowing me to put more emphasis on video production in the future.\\n\\n\\n►Special thanks to Soul of Cinder-tier Patrons: Keith, Dachgiraffe, NightFury, Auris, Ali, Christina, Saud, James, Phillip, AJ, Stargeryen, Dread, Requiem, Mitchell, Ash, and Ricky.\",\n",
              "    'liveBroadcastContent': 'none',\n",
              "    'localized': {'description': \"Folklore best lore\\n►Read more from Zirael - https://www.reddit.com/user/ziraelxx\\n►Merchandise by Vaati at https://vaatividya.com/\\n►Find Zirael on VK - https://vk.com/ziraelxx\\n\\nKINDLE THE CHANNEL [become a patron]\\n►http://www.patreon.com/vaatividya\\n\\n\\nSUBSCRIBE TO HUMBLE [cheap monthly games]\\n►https://www.humblebundle.com/monthly?partner=vaatividya\\n\\n\\nTRANSLATE MY VIDEOS\\n►Know a second language? You could help bring my videos to a wider audience: http://bit.ly/2fB71WW\\n\\n\\nPLAYLISTS\\n►My Best Videos: http://bit.ly/2oMp66a\\n►Elden Ring News: https://bit.ly/2ZkDV2d\\n►Sekiro Lore: https://bit.ly/2KGEzD1\\n►Sekiro Secrets: https://bit.ly/2IsObhW\\n►►Dark Souls 3 Lore: http://bit.ly/2n0bU13\\n►Dark Souls 3 News: http://bit.ly/1NQbgbW\\n►Bloodborne Lore: http://bit.ly/1X9doOQ\\n►Demon's Souls Lore: http://bit.ly/16mIF86\\n►Dark Souls Remastered Lore: http://bit.ly/13x6nNs\\n►Dark Souls 2 Lore: http://bit.ly/1dedWjI\\n►Souls-like: http://bit.ly/1xCPDnu\\n\\n\\nSOCIAL\\n►Follow me on Twitter: https://twitter.com/VaatiVidya\\n►Follow me on Tumblr: http://vaatividya.tumblr.com/\\n►Follow me on Twitch.tv: http://www.twitch.tv/vaatividya\\n►Follow me on Facebook: https://www.facebook.com/Vaatividya\\n►Follow me on Patreon: http://www.patreon.com/vaatividya\\n►Join me on Discord: http://discord.gg/vaatividya\\n\\n\\nTHUMBNAIL ART\\n►\\n\\n\\nMUSIC (most is royalty-free or licensed from Epidemic Sound (https://www.youtube.com/user/WeAreEpidemicSound))\\n►\\n►\\n►\\n►\\n\\n\\nSPECIAL THANKS\\n►To all major contributors on CE tables - your work makes video creation so much easier.\\n\\n\\nPATRONS\\n►I'd like to give sincere thanks to all my patrons - your contributions have changed the course of my life, allowing me to put more emphasis on video production in the future.\\n\\n\\n►Special thanks to Soul of Cinder-tier Patrons: Keith, Dachgiraffe, NightFury, Auris, Ali, Christina, Saud, James, Phillip, AJ, Stargeryen, Dread, Requiem, Mitchell, Ash, and Ricky.\",\n",
              "     'title': '10 Japanese Secrets in Sekiro: Shadows Die Twice'},\n",
              "    'publishedAt': '2019-08-20T01:35:05Z',\n",
              "    'tags': ['guide',\n",
              "     'walkthrough',\n",
              "     'lore',\n",
              "     'dark',\n",
              "     'souls',\n",
              "     'remastered',\n",
              "     'two',\n",
              "     'story',\n",
              "     'vaatividya',\n",
              "     'vaati',\n",
              "     'vidya',\n",
              "     'videos',\n",
              "     '(video',\n",
              "     'game)',\n",
              "     'shadows',\n",
              "     'twice',\n",
              "     'software',\n",
              "     'sekiro',\n",
              "     'ringed',\n",
              "     'city',\n",
              "     'ashes',\n",
              "     'ariandel',\n",
              "     'ashina',\n",
              "     'from',\n",
              "     'farming',\n",
              "     'combat',\n",
              "     'tips',\n",
              "     'tricks',\n",
              "     'prosthetic',\n",
              "     'weapons',\n",
              "     'attachment',\n",
              "     'great',\n",
              "     'rune',\n",
              "     'elden',\n",
              "     'ring',\n",
              "     'corrupted monk',\n",
              "     'interior ministry',\n",
              "     'isshin',\n",
              "     'tomoe',\n",
              "     'divine dragon',\n",
              "     'centipede',\n",
              "     'ningyo',\n",
              "     'folklore',\n",
              "     'folk story',\n",
              "     'folktale',\n",
              "     'history',\n",
              "     'inspiration'],\n",
              "    'thumbnails': {'default': {'height': 90,\n",
              "      'url': 'https://i.ytimg.com/vi/x8IfGeHAq4o/default.jpg',\n",
              "      'width': 120},\n",
              "     'high': {'height': 360,\n",
              "      'url': 'https://i.ytimg.com/vi/x8IfGeHAq4o/hqdefault.jpg',\n",
              "      'width': 480},\n",
              "     'maxres': {'height': 720,\n",
              "      'url': 'https://i.ytimg.com/vi/x8IfGeHAq4o/maxresdefault.jpg',\n",
              "      'width': 1280},\n",
              "     'medium': {'height': 180,\n",
              "      'url': 'https://i.ytimg.com/vi/x8IfGeHAq4o/mqdefault.jpg',\n",
              "      'width': 320},\n",
              "     'standard': {'height': 480,\n",
              "      'url': 'https://i.ytimg.com/vi/x8IfGeHAq4o/sddefault.jpg',\n",
              "      'width': 640}},\n",
              "    'title': '10 Japanese Secrets in Sekiro: Shadows Die Twice'},\n",
              "   'statistics': {'commentCount': '1255',\n",
              "    'dislikeCount': '262',\n",
              "    'favoriteCount': '0',\n",
              "    'likeCount': '29695',\n",
              "    'viewCount': '769115'}}],\n",
              " 'kind': 'youtube#videoListResponse',\n",
              " 'pageInfo': {'resultsPerPage': 1, 'totalResults': 1}}"
            ]
          },
          "metadata": {
            "tags": []
          },
          "execution_count": 55
        }
      ]
    },
    {
      "cell_type": "markdown",
      "metadata": {
        "id": "hWc4bY1uh5l_"
      },
      "source": [
        "## search by keyword"
      ]
    },
    {
      "cell_type": "markdown",
      "metadata": {
        "id": "iYR7C6mYi3vB"
      },
      "source": [
        "Too many results sometimes. Only get the top 1000 results."
      ]
    },
    {
      "cell_type": "code",
      "metadata": {
        "id": "ryv-BeGlh4zm"
      },
      "source": [
        "request = youtube.search().list(\n",
        "        part=\"snippet\",\n",
        "        maxResults=25,\n",
        "        q=\"dark soul\"\n",
        "    )\n",
        "response = request.execute()"
      ],
      "execution_count": 26,
      "outputs": []
    },
    {
      "cell_type": "code",
      "metadata": {
        "colab": {
          "base_uri": "https://localhost:8080/"
        },
        "id": "rw65osFyiEk7",
        "outputId": "247d715c-d0a1-4be3-d534-a18346cb09fd"
      },
      "source": [
        "response['pageInfo']"
      ],
      "execution_count": 27,
      "outputs": [
        {
          "output_type": "execute_result",
          "data": {
            "text/plain": [
              "{'resultsPerPage': 25, 'totalResults': 1000000}"
            ]
          },
          "metadata": {
            "tags": []
          },
          "execution_count": 27
        }
      ]
    },
    {
      "cell_type": "code",
      "metadata": {
        "colab": {
          "base_uri": "https://localhost:8080/",
          "height": 35
        },
        "id": "uiTCpy4vimtI",
        "outputId": "9121b7f1-fb6b-442a-b4b4-f8a34e380ab2"
      },
      "source": [
        "response['nextPageToken']"
      ],
      "execution_count": 28,
      "outputs": [
        {
          "output_type": "execute_result",
          "data": {
            "application/vnd.google.colaboratory.intrinsic+json": {
              "type": "string"
            },
            "text/plain": [
              "'CBkQAA'"
            ]
          },
          "metadata": {
            "tags": []
          },
          "execution_count": 28
        }
      ]
    },
    {
      "cell_type": "code",
      "metadata": {
        "colab": {
          "base_uri": "https://localhost:8080/"
        },
        "id": "6xeY1G_disIi",
        "outputId": "22212952-77db-44b8-85dc-f5084378574d"
      },
      "source": [
        "request = youtube.search().list(\n",
        "        part=\"snippet\",\n",
        "        maxResults=25,\n",
        "        q=\"dark soul\",\n",
        "        pageToken='CBkQAA'\n",
        "    )\n",
        "response = request.execute()\n",
        "response"
      ],
      "execution_count": 29,
      "outputs": [
        {
          "output_type": "execute_result",
          "data": {
            "text/plain": [
              "{'etag': '1X41kUfYK6jtcIfKeO6aORg9DdA',\n",
              " 'items': [{'etag': 'Adt6mKZapYsTQd3p9f2fjSoCUYs',\n",
              "   'id': {'kind': 'youtube#video', 'videoId': 'gg9X38z1a2U'},\n",
              "   'kind': 'youtube#searchResult',\n",
              "   'snippet': {'channelId': 'UC4oo36VSTk5fH6YJSICEDMA',\n",
              "    'channelTitle': 'Marz',\n",
              "    'description': \"In part 1, we begin our journey to fulfill a prophecy as a Hollow in the Undead Asylum. Once chosen, we head to the ancient land of Lordran and it's Firelink ...\",\n",
              "    'liveBroadcastContent': 'none',\n",
              "    'publishTime': '2020-07-12T15:07:20Z',\n",
              "    'publishedAt': '2020-07-12T15:07:20Z',\n",
              "    'thumbnails': {'default': {'height': 90,\n",
              "      'url': 'https://i.ytimg.com/vi/gg9X38z1a2U/default.jpg',\n",
              "      'width': 120},\n",
              "     'high': {'height': 360,\n",
              "      'url': 'https://i.ytimg.com/vi/gg9X38z1a2U/hqdefault.jpg',\n",
              "      'width': 480},\n",
              "     'medium': {'height': 180,\n",
              "      'url': 'https://i.ytimg.com/vi/gg9X38z1a2U/mqdefault.jpg',\n",
              "      'width': 320}},\n",
              "    'title': 'The Land of Lordran | Dark Souls Remastered Pt. 1 | Marz Plays'}},\n",
              "  {'etag': 'k0okNk0JYw4RuM3WHQHe2eYIbSE',\n",
              "   'id': {'kind': 'youtube#video', 'videoId': '_0C7Oy2lCZ8'},\n",
              "   'kind': 'youtube#searchResult',\n",
              "   'snippet': {'channelId': 'UCTF0ldaORTbCfx2ahvFfYWg',\n",
              "    'channelTitle': 'Phê Game',\n",
              "    'description': 'Dark Souls | Lịch sử dòng game Script: Hải Voice: Trường Editor: Luân Ủng hộ bọn mình tại: https://playerduo.com/unghophegame ...',\n",
              "    'liveBroadcastContent': 'none',\n",
              "    'publishTime': '2019-03-01T13:39:27Z',\n",
              "    'publishedAt': '2019-03-01T13:39:27Z',\n",
              "    'thumbnails': {'default': {'height': 90,\n",
              "      'url': 'https://i.ytimg.com/vi/_0C7Oy2lCZ8/default.jpg',\n",
              "      'width': 120},\n",
              "     'high': {'height': 360,\n",
              "      'url': 'https://i.ytimg.com/vi/_0C7Oy2lCZ8/hqdefault.jpg',\n",
              "      'width': 480},\n",
              "     'medium': {'height': 180,\n",
              "      'url': 'https://i.ytimg.com/vi/_0C7Oy2lCZ8/mqdefault.jpg',\n",
              "      'width': 320}},\n",
              "    'title': 'DARK SOULS | Lịch Sử Dòng Game'}},\n",
              "  {'etag': '-ZbeWJsBHUzu_eyYza71U8izfAM',\n",
              "   'id': {'kind': 'youtube#video', 'videoId': 'bzJDimvPW1Y'},\n",
              "   'kind': 'youtube#searchResult',\n",
              "   'snippet': {'channelId': 'UCTJInu-7PDDsWA26xcWW6KA',\n",
              "    'channelTitle': 'ThePruld',\n",
              "    'description': \"SOURCE - https://www.facebook.com/433078806886562/videos/503281129866329/\\ufeff Domani mattina parto per la sardegna per una settimana e l'idea di ...\",\n",
              "    'liveBroadcastContent': 'none',\n",
              "    'publishTime': '2016-07-26T22:02:47Z',\n",
              "    'publishedAt': '2016-07-26T22:02:47Z',\n",
              "    'thumbnails': {'default': {'height': 90,\n",
              "      'url': 'https://i.ytimg.com/vi/bzJDimvPW1Y/default.jpg',\n",
              "      'width': 120},\n",
              "     'high': {'height': 360,\n",
              "      'url': 'https://i.ytimg.com/vi/bzJDimvPW1Y/hqdefault.jpg',\n",
              "      'width': 480},\n",
              "     'medium': {'height': 180,\n",
              "      'url': 'https://i.ytimg.com/vi/bzJDimvPW1Y/mqdefault.jpg',\n",
              "      'width': 320}},\n",
              "    'title': '[ThePruld] When you go dark souls with your best mates'}},\n",
              "  {'etag': 'aJRS2CN3xuvhuwwUS2W-r0z0N_g',\n",
              "   'id': {'kind': 'youtube#video', 'videoId': 'yka3cToJpHc'},\n",
              "   'kind': 'youtube#searchResult',\n",
              "   'snippet': {'channelId': 'UCQmzgjEb7X6--w7CSE1erJg',\n",
              "    'channelTitle': 'Slimecicle',\n",
              "    'description': \"I didn't even get close to mastering the first Dark Souls, so this is Dark Souls Re-Sadly Attempted. Put on your black shoes because this video has some Dark ...\",\n",
              "    'liveBroadcastContent': 'none',\n",
              "    'publishTime': '2018-06-11T20:01:00Z',\n",
              "    'publishedAt': '2018-06-11T20:01:00Z',\n",
              "    'thumbnails': {'default': {'height': 90,\n",
              "      'url': 'https://i.ytimg.com/vi/yka3cToJpHc/default.jpg',\n",
              "      'width': 120},\n",
              "     'high': {'height': 360,\n",
              "      'url': 'https://i.ytimg.com/vi/yka3cToJpHc/hqdefault.jpg',\n",
              "      'width': 480},\n",
              "     'medium': {'height': 180,\n",
              "      'url': 'https://i.ytimg.com/vi/yka3cToJpHc/mqdefault.jpg',\n",
              "      'width': 320}},\n",
              "    'title': 'This Is Dark Souls Remastered'}},\n",
              "  {'etag': '0lJho_VdOZjvvgb89NMkBsgpFPY',\n",
              "   'id': {'kind': 'youtube#video', 'videoId': 'LqhtBsxAZNo'},\n",
              "   'kind': 'youtube#searchResult',\n",
              "   'snippet': {'channelId': 'UC7WDD6yHgzdqijHluCi1z-Q',\n",
              "    'channelTitle': 'The Act Man',\n",
              "    'description': \"Dark Souls is a game we've heard no end of from game journalists across the globe. For better or worse, the game has redefined video game difficulty in the ...\",\n",
              "    'liveBroadcastContent': 'none',\n",
              "    'publishTime': '2018-07-24T20:01:16Z',\n",
              "    'publishedAt': '2018-07-24T20:01:16Z',\n",
              "    'thumbnails': {'default': {'height': 90,\n",
              "      'url': 'https://i.ytimg.com/vi/LqhtBsxAZNo/default.jpg',\n",
              "      'width': 120},\n",
              "     'high': {'height': 360,\n",
              "      'url': 'https://i.ytimg.com/vi/LqhtBsxAZNo/hqdefault.jpg',\n",
              "      'width': 480},\n",
              "     'medium': {'height': 180,\n",
              "      'url': 'https://i.ytimg.com/vi/LqhtBsxAZNo/mqdefault.jpg',\n",
              "      'width': 320}},\n",
              "    'title': 'Why Is Dark Souls 1 A Masterpiece?!'}},\n",
              "  {'etag': 'ouaj109HygTc7tjPpTVdcJxIf0Q',\n",
              "   'id': {'kind': 'youtube#video', 'videoId': 'zIv_o9PsCbI'},\n",
              "   'kind': 'youtube#searchResult',\n",
              "   'snippet': {'channelId': 'UCj8orMezFWVcoN-4S545Wtw',\n",
              "    'channelTitle': 'Max Derrat',\n",
              "    'description': 'In the last month, I have been playing through the Dark Souls games for the first time. The more I play, the more it becomes apparent to me that Hidetaka ...',\n",
              "    'liveBroadcastContent': 'none',\n",
              "    'publishTime': '2020-11-06T21:00:02Z',\n",
              "    'publishedAt': '2020-11-06T21:00:02Z',\n",
              "    'thumbnails': {'default': {'height': 90,\n",
              "      'url': 'https://i.ytimg.com/vi/zIv_o9PsCbI/default.jpg',\n",
              "      'width': 120},\n",
              "     'high': {'height': 360,\n",
              "      'url': 'https://i.ytimg.com/vi/zIv_o9PsCbI/hqdefault.jpg',\n",
              "      'width': 480},\n",
              "     'medium': {'height': 180,\n",
              "      'url': 'https://i.ytimg.com/vi/zIv_o9PsCbI/mqdefault.jpg',\n",
              "      'width': 320}},\n",
              "    'title': 'The Hidden Secrets of Dark Souls - The World Soul'}},\n",
              "  {'etag': 'gD0YXk4j9srBWJs6rho1V1p2YP8',\n",
              "   'id': {'kind': 'youtube#video', 'videoId': 'oYq4KEldx3E'},\n",
              "   'kind': 'youtube#searchResult',\n",
              "   'snippet': {'channelId': 'UC17vsYVoIwch5UzPar1LDmQ',\n",
              "    'channelTitle': 'ymfah',\n",
              "    'description': 'A detailed guide on doing a Pacifist run in Dark Souls Remastered. All footage captured in the most recent version of Dark Souls Remastered. All glitches work ...',\n",
              "    'liveBroadcastContent': 'none',\n",
              "    'publishTime': '2020-06-29T14:24:15Z',\n",
              "    'publishedAt': '2020-06-29T14:24:15Z',\n",
              "    'thumbnails': {'default': {'height': 90,\n",
              "      'url': 'https://i.ytimg.com/vi/oYq4KEldx3E/default.jpg',\n",
              "      'width': 120},\n",
              "     'high': {'height': 360,\n",
              "      'url': 'https://i.ytimg.com/vi/oYq4KEldx3E/hqdefault.jpg',\n",
              "      'width': 480},\n",
              "     'medium': {'height': 180,\n",
              "      'url': 'https://i.ytimg.com/vi/oYq4KEldx3E/mqdefault.jpg',\n",
              "      'width': 320}},\n",
              "    'title': 'How to Pacifist Dark Souls'}},\n",
              "  {'etag': '9WZXNzsBtJ_lyoYhyreRUKykGNM',\n",
              "   'id': {'kind': 'youtube#video', 'videoId': 'n3bPrpKPTTQ'},\n",
              "   'kind': 'youtube#searchResult',\n",
              "   'snippet': {'channelId': 'UC-shHw-IWdyL7Y6JUz_mUMQ',\n",
              "    'channelTitle': 'SORRYLAG',\n",
              "    'description': 'El Dark Souls de los videos de Dark Souls 00:00 Intro y contexto de Dark Souls 03:12 Gameplay Dark Souls #darksouls ♢ DISCORD: ...',\n",
              "    'liveBroadcastContent': 'none',\n",
              "    'publishTime': '2020-05-06T15:35:40Z',\n",
              "    'publishedAt': '2020-05-06T15:35:40Z',\n",
              "    'thumbnails': {'default': {'height': 90,\n",
              "      'url': 'https://i.ytimg.com/vi/n3bPrpKPTTQ/default.jpg',\n",
              "      'width': 120},\n",
              "     'high': {'height': 360,\n",
              "      'url': 'https://i.ytimg.com/vi/n3bPrpKPTTQ/hqdefault.jpg',\n",
              "      'width': 480},\n",
              "     'medium': {'height': 180,\n",
              "      'url': 'https://i.ytimg.com/vi/n3bPrpKPTTQ/mqdefault.jpg',\n",
              "      'width': 320}},\n",
              "    'title': 'Dark Souls es el &quot;dark souls&quot; de los Videojuegos'}},\n",
              "  {'etag': 'FK6x8sO9Bh-CHu4acdoRAW7x6hE',\n",
              "   'id': {'kind': 'youtube#video', 'videoId': 'V3W0iX-nZ4g'},\n",
              "   'kind': 'youtube#searchResult',\n",
              "   'snippet': {'channelId': 'UCchBatdUMZoMfJ3rIzgV84g',\n",
              "    'channelTitle': 'Viva La Dirt League',\n",
              "    'description': \"There's nothing quite as stressful as losing all your souls in Dark Souls, Demon Souls or Bloodbourne Get a 12% discount off all SteelSeries products by using ...\",\n",
              "    'liveBroadcastContent': 'none',\n",
              "    'publishTime': '2020-12-04T09:49:23Z',\n",
              "    'publishedAt': '2020-12-04T09:49:23Z',\n",
              "    'thumbnails': {'default': {'height': 90,\n",
              "      'url': 'https://i.ytimg.com/vi/V3W0iX-nZ4g/default.jpg',\n",
              "      'width': 120},\n",
              "     'high': {'height': 360,\n",
              "      'url': 'https://i.ytimg.com/vi/V3W0iX-nZ4g/hqdefault.jpg',\n",
              "      'width': 480},\n",
              "     'medium': {'height': 180,\n",
              "      'url': 'https://i.ytimg.com/vi/V3W0iX-nZ4g/mqdefault.jpg',\n",
              "      'width': 320}},\n",
              "    'title': 'The stress of losing all your souls  - Lost Souls'}},\n",
              "  {'etag': 'sy2ypwumpkR-r8-XpSIbANy-_hg',\n",
              "   'id': {'kind': 'youtube#video', 'videoId': 'Gh8x1AGIaPY'},\n",
              "   'kind': 'youtube#searchResult',\n",
              "   'snippet': {'channelId': 'UC4plRabXFGdAE6HP-tBQKdQ',\n",
              "    'channelTitle': 'HEARTROCKER',\n",
              "    'description': 'ก็ฉันรู้ ว่าฉันแทนเขาไม่ได้ และฉันรู้ ว่าใจเธอมีแต่เขา ********************************************************* กดติดตามช่อง Youtube: http://full.sc/1bV5ChZ Facebook: ...',\n",
              "    'liveBroadcastContent': 'none',\n",
              "    'publishTime': '2014-03-26T12:23:07Z',\n",
              "    'publishedAt': '2014-03-26T12:23:07Z',\n",
              "    'thumbnails': {'default': {'height': 90,\n",
              "      'url': 'https://i.ytimg.com/vi/Gh8x1AGIaPY/default.jpg',\n",
              "      'width': 120},\n",
              "     'high': {'height': 360,\n",
              "      'url': 'https://i.ytimg.com/vi/Gh8x1AGIaPY/hqdefault.jpg',\n",
              "      'width': 480},\n",
              "     'medium': {'height': 180,\n",
              "      'url': 'https://i.ytimg.com/vi/Gh8x1AGIaPY/mqdefault.jpg',\n",
              "      'width': 320}},\n",
              "    'title': ':: DARK SOULS :: หัวเห็ดพิฆาต Part 1'}},\n",
              "  {'etag': '44dQsb-ofJ0-TOmhaxodlp05dtg',\n",
              "   'id': {'kind': 'youtube#video', 'videoId': 'cb9t0I_H1Is'},\n",
              "   'kind': 'youtube#searchResult',\n",
              "   'snippet': {'channelId': 'UCET8VWXb9Tn42gYX7GXmpWw',\n",
              "    'channelTitle': 'LEVEL UP - Kể Chuyện Game',\n",
              "    'description': 'Cốt Truyện DARK SOULS | Thời Đại Của Lửa | #KeChuyenGame Script: Vũ Thành Trung/ Silver Voice: Bamboo & Giang Vieto 🛠️Editor: Silver ✦Hình ảnh từ ...',\n",
              "    'liveBroadcastContent': 'none',\n",
              "    'publishTime': '2020-10-08T13:08:58Z',\n",
              "    'publishedAt': '2020-10-08T13:08:58Z',\n",
              "    'thumbnails': {'default': {'height': 90,\n",
              "      'url': 'https://i.ytimg.com/vi/cb9t0I_H1Is/default.jpg',\n",
              "      'width': 120},\n",
              "     'high': {'height': 360,\n",
              "      'url': 'https://i.ytimg.com/vi/cb9t0I_H1Is/hqdefault.jpg',\n",
              "      'width': 480},\n",
              "     'medium': {'height': 180,\n",
              "      'url': 'https://i.ytimg.com/vi/cb9t0I_H1Is/mqdefault.jpg',\n",
              "      'width': 320}},\n",
              "    'title': 'Cốt Truyện DARK SOULS | Thời Đại Của Lửa | #KeChuyenGame'}},\n",
              "  {'etag': '6WWY1wJY-dyd_HMZtuCKN96VkWE',\n",
              "   'id': {'kind': 'youtube#video', 'videoId': 'UfqnukcuB3c'},\n",
              "   'kind': 'youtube#searchResult',\n",
              "   'snippet': {'channelId': 'UCe0DNp0mKMqrYVaTundyr9w',\n",
              "    'channelTitle': 'VaatiVidya',\n",
              "    'description': 'Buy Future Souls Displate with this link - https://displate.com/displate/3553754?art=5e87123a79f28 This video was written in collaboration with Zullie the Witch, ...',\n",
              "    'liveBroadcastContent': 'none',\n",
              "    'publishTime': '2020-08-17T15:31:56Z',\n",
              "    'publishedAt': '2020-08-17T15:31:56Z',\n",
              "    'thumbnails': {'default': {'height': 90,\n",
              "      'url': 'https://i.ytimg.com/vi/UfqnukcuB3c/default.jpg',\n",
              "      'width': 120},\n",
              "     'high': {'height': 360,\n",
              "      'url': 'https://i.ytimg.com/vi/UfqnukcuB3c/hqdefault.jpg',\n",
              "      'width': 480},\n",
              "     'medium': {'height': 180,\n",
              "      'url': 'https://i.ytimg.com/vi/UfqnukcuB3c/mqdefault.jpg',\n",
              "      'width': 320}},\n",
              "    'title': '20 Lost Secrets in Dark Souls 3'}},\n",
              "  {'etag': 'Rnae_As7XLiFlOf21Te5W4A0BUU',\n",
              "   'id': {'kind': 'youtube#video', 'videoId': 'u89XfBFd4Mw'},\n",
              "   'kind': 'youtube#searchResult',\n",
              "   'snippet': {'channelId': 'UC1pAUT1bL7fV9VBp3A6F8FQ',\n",
              "    'channelTitle': 'GEMAPLYS',\n",
              "    'description': 'CURSO DE JOGOS: http://bit.ly/gemacurso por favor compartilha e se inscreve se gostar pq deu um trabalhinho fazer isso e espero que vocês aproveitem cada ...',\n",
              "    'liveBroadcastContent': 'none',\n",
              "    'publishTime': '2020-07-02T16:54:15Z',\n",
              "    'publishedAt': '2020-07-02T16:54:15Z',\n",
              "    'thumbnails': {'default': {'height': 90,\n",
              "      'url': 'https://i.ytimg.com/vi/u89XfBFd4Mw/default.jpg',\n",
              "      'width': 120},\n",
              "     'high': {'height': 360,\n",
              "      'url': 'https://i.ytimg.com/vi/u89XfBFd4Mw/hqdefault.jpg',\n",
              "      'width': 480},\n",
              "     'medium': {'height': 180,\n",
              "      'url': 'https://i.ytimg.com/vi/u89XfBFd4Mw/mqdefault.jpg',\n",
              "      'width': 320}},\n",
              "    'title': 'o dark souls das reviews de jogos'}},\n",
              "  {'etag': 'J1EognWL6DCpE-12vPYlGMJa6IM',\n",
              "   'id': {'kind': 'youtube#video', 'videoId': 'HWjImFFp87o'},\n",
              "   'kind': 'youtube#searchResult',\n",
              "   'snippet': {'channelId': 'UCWKtHaeXVzUscYGcm0hEunw',\n",
              "    'channelTitle': 'BRKsEDU',\n",
              "    'description': 'Compre Dark Souls Remastered: - Xbox One: https://baix.in/lbtr8 - PS4: https://baix.in/b4std Vídeo gameplay do jogo Dark Souls Remastered, disponível para ...',\n",
              "    'liveBroadcastContent': 'none',\n",
              "    'publishTime': '2018-05-23T14:00:02Z',\n",
              "    'publishedAt': '2018-05-23T14:00:02Z',\n",
              "    'thumbnails': {'default': {'height': 90,\n",
              "      'url': 'https://i.ytimg.com/vi/HWjImFFp87o/default.jpg',\n",
              "      'width': 120},\n",
              "     'high': {'height': 360,\n",
              "      'url': 'https://i.ytimg.com/vi/HWjImFFp87o/hqdefault.jpg',\n",
              "      'width': 480},\n",
              "     'medium': {'height': 180,\n",
              "      'url': 'https://i.ytimg.com/vi/HWjImFFp87o/mqdefault.jpg',\n",
              "      'width': 320}},\n",
              "    'title': 'DARK SOULS REMASTERED - O Início de Gameplay, em Português PT BR!'}},\n",
              "  {'etag': 'wg04PwZQIUxuMwUtCo1dM9c3Ltk',\n",
              "   'id': {'kind': 'youtube#video', 'videoId': 'h6b9eEKUkD8'},\n",
              "   'kind': 'youtube#searchResult',\n",
              "   'snippet': {'channelId': 'UCXazgXDIYyWH-yXLAkcrFxw',\n",
              "    'channelTitle': 'elrubiusOMG',\n",
              "    'description': 'Like si crees que mi espada es grande y larga ( ͡° ͜ʖ ͡°)( ͡° ͜ʖ ͡°)( ͡° ͜ʖ ͡°) UNTIL DAWN LO SUBIRE DENTRO DE POCO Juego: Dark Souls 3 Pagina ...',\n",
              "    'liveBroadcastContent': 'none',\n",
              "    'publishTime': '2016-04-24T20:19:25Z',\n",
              "    'publishedAt': '2016-04-24T20:19:25Z',\n",
              "    'thumbnails': {'default': {'height': 90,\n",
              "      'url': 'https://i.ytimg.com/vi/h6b9eEKUkD8/default.jpg',\n",
              "      'width': 120},\n",
              "     'high': {'height': 360,\n",
              "      'url': 'https://i.ytimg.com/vi/h6b9eEKUkD8/hqdefault.jpg',\n",
              "      'width': 480},\n",
              "     'medium': {'height': 180,\n",
              "      'url': 'https://i.ytimg.com/vi/h6b9eEKUkD8/mqdefault.jpg',\n",
              "      'width': 320}},\n",
              "    'title': 'ESTE P*TO JUEGO | Dark Souls 3'}},\n",
              "  {'etag': '_XJpwOinKejy6aVXfRcyo7sN_08',\n",
              "   'id': {'kind': 'youtube#video', 'videoId': 'IlPGu5hxRSI'},\n",
              "   'kind': 'youtube#searchResult',\n",
              "   'snippet': {'channelId': 'UCdaluuQuE5GoOlULA2PGKmA',\n",
              "    'channelTitle': 'Boss Fight Database',\n",
              "    'description': 'The final boss fight Soul of Cinder in Dark Souls 3 on PC. Also includes the secret ending ending \"Usurper of Fire\". ✪ Subscribe! http://bit.ly/Subscriiiibe Dark ...',\n",
              "    'liveBroadcastContent': 'none',\n",
              "    'publishTime': '2016-04-16T19:42:33Z',\n",
              "    'publishedAt': '2016-04-16T19:42:33Z',\n",
              "    'thumbnails': {'default': {'height': 90,\n",
              "      'url': 'https://i.ytimg.com/vi/IlPGu5hxRSI/default.jpg',\n",
              "      'width': 120},\n",
              "     'high': {'height': 360,\n",
              "      'url': 'https://i.ytimg.com/vi/IlPGu5hxRSI/hqdefault.jpg',\n",
              "      'width': 480},\n",
              "     'medium': {'height': 180,\n",
              "      'url': 'https://i.ytimg.com/vi/IlPGu5hxRSI/mqdefault.jpg',\n",
              "      'width': 320}},\n",
              "    'title': 'Dark Souls 3: Soul of Cinder Final Boss Fight and Secret Ending (4K 60fps)'}},\n",
              "  {'etag': 'V1XnG4zWA2RQm-NaylYpTs3nbAY',\n",
              "   'id': {'kind': 'youtube#video', 'videoId': 'ofhiyIIjRdA'},\n",
              "   'kind': 'youtube#searchResult',\n",
              "   'snippet': {'channelId': 'UC4plRabXFGdAE6HP-tBQKdQ',\n",
              "    'channelTitle': 'HEARTROCKER',\n",
              "    'description': 'กดติดตามช่อง Youtube: http://full.sc/1bV5ChZ Fan Page: http://full.sc/1o1kykH Facebook: http://full.sc/1o30pvy Twitter: http://full.sc/1bV5Up3 IG: ...',\n",
              "    'liveBroadcastContent': 'none',\n",
              "    'publishTime': '2016-04-13T21:36:51Z',\n",
              "    'publishedAt': '2016-04-13T21:36:51Z',\n",
              "    'thumbnails': {'default': {'height': 90,\n",
              "      'url': 'https://i.ytimg.com/vi/ofhiyIIjRdA/default.jpg',\n",
              "      'width': 120},\n",
              "     'high': {'height': 360,\n",
              "      'url': 'https://i.ytimg.com/vi/ofhiyIIjRdA/hqdefault.jpg',\n",
              "      'width': 480},\n",
              "     'medium': {'height': 180,\n",
              "      'url': 'https://i.ytimg.com/vi/ofhiyIIjRdA/mqdefault.jpg',\n",
              "      'width': 320}},\n",
              "    'title': '[LIVE] Dark Souls III - พร้อมตายไหมหัวเห็ด #1'}},\n",
              "  {'etag': 'r41PbowRfvZCOT7bBeLrJVZUdo8',\n",
              "   'id': {'kind': 'youtube#video', 'videoId': 'w3F5vSMiGLI'},\n",
              "   'kind': 'youtube#searchResult',\n",
              "   'snippet': {'channelId': 'UCcAQJDkK-Xf-YGCGAdAY3Ig',\n",
              "    'channelTitle': 'Дмитрий Бэйл',\n",
              "    'description': 'Прохождение Dark Souls: Prepare To Die Edition на русском языке.Приятного просмотра! СТАВЬ ЛАЙК И ПОДПИСЫВАЙСЯ ^_^ ...',\n",
              "    'liveBroadcastContent': 'none',\n",
              "    'publishTime': '2016-04-16T16:45:50Z',\n",
              "    'publishedAt': '2016-04-16T16:45:50Z',\n",
              "    'thumbnails': {'default': {'height': 90,\n",
              "      'url': 'https://i.ytimg.com/vi/w3F5vSMiGLI/default.jpg',\n",
              "      'width': 120},\n",
              "     'high': {'height': 360,\n",
              "      'url': 'https://i.ytimg.com/vi/w3F5vSMiGLI/hqdefault.jpg',\n",
              "      'width': 480},\n",
              "     'medium': {'height': 180,\n",
              "      'url': 'https://i.ytimg.com/vi/w3F5vSMiGLI/mqdefault.jpg',\n",
              "      'width': 320}},\n",
              "    'title': 'Прохождение Dark Souls Prepare To Die Edition — Часть 1: ТЕМНЫЕ ДУШИ'}},\n",
              "  {'etag': 'l8wcbGWpR-cYFPhuSPTpgQF_8qA',\n",
              "   'id': {'kind': 'youtube#video', 'videoId': 'gjVb3b7CjLQ'},\n",
              "   'kind': 'youtube#searchResult',\n",
              "   'snippet': {'channelId': 'UCvBwFn6JVn5m64nA_yGrmUQ',\n",
              "    'channelTitle': 'Записи стримов Куплинова',\n",
              "    'description': 'Стримы проходят на твиче - https://www.twitch.tv/kuplinov Основной канал - https://www.youtube.com/user/KuplinovPlay Подписаться на канал ...',\n",
              "    'liveBroadcastContent': 'none',\n",
              "    'publishTime': '2018-05-22T07:57:50Z',\n",
              "    'publishedAt': '2018-05-22T07:57:50Z',\n",
              "    'thumbnails': {'default': {'height': 90,\n",
              "      'url': 'https://i.ytimg.com/vi/gjVb3b7CjLQ/default.jpg',\n",
              "      'width': 120},\n",
              "     'high': {'height': 360,\n",
              "      'url': 'https://i.ytimg.com/vi/gjVb3b7CjLQ/hqdefault.jpg',\n",
              "      'width': 480},\n",
              "     'medium': {'height': 180,\n",
              "      'url': 'https://i.ytimg.com/vi/gjVb3b7CjLQ/mqdefault.jpg',\n",
              "      'width': 320}},\n",
              "    'title': 'ЗАПИСЬ СТРИМА ► Dark Souls Remastered #1'}},\n",
              "  {'etag': 'wxmiTUFU20MuPyE0Vp4j8wjK0xA',\n",
              "   'id': {'kind': 'youtube#video', 'videoId': 'R_cpOLP3ToU'},\n",
              "   'kind': 'youtube#searchResult',\n",
              "   'snippet': {'channelId': 'UCrR3Pb60RA7lks1zV_LYauw',\n",
              "    'channelTitle': 'Lucky Salamander',\n",
              "    'description': 'Siga a Gloriosa Picanha!!! [Twitter ✓ - http://goo.gl/MjM5at ] - [Facebook ✓ - http://goo.gl/WtxxY3] - [Instagram ✓ - http://goo.gl/gk1MhO] Começando o INSANO ...',\n",
              "    'liveBroadcastContent': 'none',\n",
              "    'publishTime': '2016-03-30T11:58:12Z',\n",
              "    'publishedAt': '2016-03-30T11:58:12Z',\n",
              "    'thumbnails': {'default': {'height': 90,\n",
              "      'url': 'https://i.ytimg.com/vi/R_cpOLP3ToU/default.jpg',\n",
              "      'width': 120},\n",
              "     'high': {'height': 360,\n",
              "      'url': 'https://i.ytimg.com/vi/R_cpOLP3ToU/hqdefault.jpg',\n",
              "      'width': 480},\n",
              "     'medium': {'height': 180,\n",
              "      'url': 'https://i.ytimg.com/vi/R_cpOLP3ToU/mqdefault.jpg',\n",
              "      'width': 320}},\n",
              "    'title': 'DARK SOULS 3 - Parte 1: Seja o Que Deus Quiser!!!! [ Xbox One - Playthrough PT-BR ]'}},\n",
              "  {'etag': 'FQMDe4DSsHwUJ16E39e5uyyjzBU',\n",
              "   'id': {'kind': 'youtube#video', 'videoId': 'qaTBeUfMbEA'},\n",
              "   'kind': 'youtube#searchResult',\n",
              "   'snippet': {'channelId': 'UCBikhjvG9DfEf3EXMU-BzcQ',\n",
              "    'channelTitle': 'Ne Olduğu Bilinmeyen Kanal',\n",
              "    'description': 'Niye böyle şeyler beni buluyor https://www.twitch.tv/neoldugubilinmeyenkanal.',\n",
              "    'liveBroadcastContent': 'none',\n",
              "    'publishTime': '2018-06-10T16:43:24Z',\n",
              "    'publishedAt': '2018-06-10T16:43:24Z',\n",
              "    'thumbnails': {'default': {'height': 90,\n",
              "      'url': 'https://i.ytimg.com/vi/qaTBeUfMbEA/default.jpg',\n",
              "      'width': 120},\n",
              "     'high': {'height': 360,\n",
              "      'url': 'https://i.ytimg.com/vi/qaTBeUfMbEA/hqdefault.jpg',\n",
              "      'width': 480},\n",
              "     'medium': {'height': 180,\n",
              "      'url': 'https://i.ytimg.com/vi/qaTBeUfMbEA/mqdefault.jpg',\n",
              "      'width': 320}},\n",
              "    'title': 'Dark Souls 3 Oynamayın'}},\n",
              "  {'etag': 'y5nwxd9iLG5mbRlG1By7z0yW8nA',\n",
              "   'id': {'kind': 'youtube#video', 'videoId': 'dbDJ9HEHep8'},\n",
              "   'kind': 'youtube#searchResult',\n",
              "   'snippet': {'channelId': 'UCWJb-VSoWcKiEznjcnZCmXQ',\n",
              "    'channelTitle': 'SunlightBlade',\n",
              "    'description': 'Using BOSS vs BOSS modding to figure out the true strongest boss of Dark Souls 3!! The channel we reacted to! BonfireVN ...',\n",
              "    'liveBroadcastContent': 'none',\n",
              "    'publishTime': '2020-11-20T17:32:21Z',\n",
              "    'publishedAt': '2020-11-20T17:32:21Z',\n",
              "    'thumbnails': {'default': {'height': 90,\n",
              "      'url': 'https://i.ytimg.com/vi/dbDJ9HEHep8/default.jpg',\n",
              "      'width': 120},\n",
              "     'high': {'height': 360,\n",
              "      'url': 'https://i.ytimg.com/vi/dbDJ9HEHep8/hqdefault.jpg',\n",
              "      'width': 480},\n",
              "     'medium': {'height': 180,\n",
              "      'url': 'https://i.ytimg.com/vi/dbDJ9HEHep8/mqdefault.jpg',\n",
              "      'width': 320}},\n",
              "    'title': 'Dark Souls 3 - BOSS vs BOSS mod'}},\n",
              "  {'etag': 'sXM1tChiYw1lGieQrc8yHsnE1H8',\n",
              "   'id': {'kind': 'youtube#video', 'videoId': 'mFuoGGF5NjQ'},\n",
              "   'kind': 'youtube#searchResult',\n",
              "   'snippet': {'channelId': 'UCsuqzuHQKvbyCd2waToK4IQ',\n",
              "    'channelTitle': 'DARKSOUL',\n",
              "    'description': 'TRANSFORMEI ESSA CONTA HUMILDE EM GEMADA SUPER RAPIDO NO FREE FIRE     Salve galera! sejam bem vindo ao canal #INSCREVASE e explode ...',\n",
              "    'liveBroadcastContent': 'none',\n",
              "    'publishTime': '2020-11-17T21:15:20Z',\n",
              "    'publishedAt': '2020-11-17T21:15:20Z',\n",
              "    'thumbnails': {'default': {'height': 90,\n",
              "      'url': 'https://i.ytimg.com/vi/mFuoGGF5NjQ/default.jpg',\n",
              "      'width': 120},\n",
              "     'high': {'height': 360,\n",
              "      'url': 'https://i.ytimg.com/vi/mFuoGGF5NjQ/hqdefault.jpg',\n",
              "      'width': 480},\n",
              "     'medium': {'height': 180,\n",
              "      'url': 'https://i.ytimg.com/vi/mFuoGGF5NjQ/mqdefault.jpg',\n",
              "      'width': 320}},\n",
              "    'title': 'TRANSFORMEI ESSA CONTA HUMILDE EM GEMADA SUPER RAPIDO NO FREE FIRE💎💎'}},\n",
              "  {'etag': 'JOxcJ-A82uES-f9wsr9f6een4xA',\n",
              "   'id': {'kind': 'youtube#video', 'videoId': '7MZaFD153T0'},\n",
              "   'kind': 'youtube#searchResult',\n",
              "   'snippet': {'channelId': 'UCmb0LnmFYceH7toqgmUTJDA',\n",
              "    'channelTitle': 'Vandal',\n",
              "    'description': 'Juegos Digitales y Tarjetas Prepago Baratas: https://www.eneba.com/es/?af_id=vandalyt Todos hemos muerto un millón de veces en Dark Souls, pero también ...',\n",
              "    'liveBroadcastContent': 'none',\n",
              "    'publishTime': '2020-06-24T18:30:09Z',\n",
              "    'publishedAt': '2020-06-24T18:30:09Z',\n",
              "    'thumbnails': {'default': {'height': 90,\n",
              "      'url': 'https://i.ytimg.com/vi/7MZaFD153T0/default.jpg',\n",
              "      'width': 120},\n",
              "     'high': {'height': 360,\n",
              "      'url': 'https://i.ytimg.com/vi/7MZaFD153T0/hqdefault.jpg',\n",
              "      'width': 480},\n",
              "     'medium': {'height': 180,\n",
              "      'url': 'https://i.ytimg.com/vi/7MZaFD153T0/mqdefault.jpg',\n",
              "      'width': 320}},\n",
              "    'title': '10 COSAS que TODOS HACEMOS en DARK SOULS'}},\n",
              "  {'etag': 'ZiLTTL2sOQjL3DfkWOkrrPCVGkQ',\n",
              "   'id': {'kind': 'youtube#video', 'videoId': '4-XTamNcfNI'},\n",
              "   'kind': 'youtube#searchResult',\n",
              "   'snippet': {'channelId': 'UCsuqzuHQKvbyCd2waToK4IQ',\n",
              "    'channelTitle': 'DARKSOUL',\n",
              "    'description': 'GASTANDO 2 GIFT CARD DE $100 NO FREE FIRE PELA PRIMEIRA VEZ GEMADO Gastando gift card $100 no free fire pela primeiras vez em diamantes ...',\n",
              "    'liveBroadcastContent': 'none',\n",
              "    'publishTime': '2020-11-21T20:40:17Z',\n",
              "    'publishedAt': '2020-11-21T20:40:17Z',\n",
              "    'thumbnails': {'default': {'height': 90,\n",
              "      'url': 'https://i.ytimg.com/vi/4-XTamNcfNI/default.jpg',\n",
              "      'width': 120},\n",
              "     'high': {'height': 360,\n",
              "      'url': 'https://i.ytimg.com/vi/4-XTamNcfNI/hqdefault.jpg',\n",
              "      'width': 480},\n",
              "     'medium': {'height': 180,\n",
              "      'url': 'https://i.ytimg.com/vi/4-XTamNcfNI/mqdefault.jpg',\n",
              "      'width': 320}},\n",
              "    'title': 'GASTANDO 2 GIFT CARD DE $100 NO FREE FIRE PELA PRIMEIRA VEZ 💎💎GEMADO'}}],\n",
              " 'kind': 'youtube#searchListResponse',\n",
              " 'nextPageToken': 'CDIQAA',\n",
              " 'pageInfo': {'resultsPerPage': 25, 'totalResults': 1000000},\n",
              " 'prevPageToken': 'CBkQAQ',\n",
              " 'regionCode': 'US'}"
            ]
          },
          "metadata": {
            "tags": []
          },
          "execution_count": 29
        }
      ]
    },
    {
      "cell_type": "markdown",
      "metadata": {
        "id": "sBuyoDBIWGFd"
      },
      "source": [
        "## save search results\n",
        "\n",
        "Create 3 tables: **channels** for storing channel information, **playlists** for storing playlist information (foreign key channelId), **playlistItems** for sotring video information (foreign key playlistId).\n",
        "\n",
        "These 3 tables should be created when we call the related APIs(shown above)"
      ]
    },
    {
      "cell_type": "code",
      "metadata": {
        "id": "L3h0idu6W0Jf"
      },
      "source": [
        "## create the database"
      ],
      "execution_count": 30,
      "outputs": []
    },
    {
      "cell_type": "markdown",
      "metadata": {
        "id": "STD40zevqrKn"
      },
      "source": [
        "# Bilibili API"
      ]
    },
    {
      "cell_type": "code",
      "metadata": {
        "id": "4I7U1bepSLI1"
      },
      "source": [
        "# bilibili part\n",
        "import requests"
      ],
      "execution_count": null,
      "outputs": []
    },
    {
      "cell_type": "code",
      "metadata": {
        "id": "AeimbGLYrMyk"
      },
      "source": [
        "# basic information of an uploader\n",
        "params = {\n",
        "    \"mid\":25877935,\n",
        "    \"jsonp\":\"jsonp\"\n",
        "}\n",
        "base_url = \"https://api.bilibili.com/x/space/upstat\"\n",
        "response = requests.get(base_url, params=params)"
      ],
      "execution_count": null,
      "outputs": []
    },
    {
      "cell_type": "code",
      "metadata": {
        "colab": {
          "base_uri": "https://localhost:8080/",
          "height": 35
        },
        "id": "8EtuC3jusGXP",
        "outputId": "7797c456-0378-4708-b131-59d033399d59"
      },
      "source": [
        "response.text"
      ],
      "execution_count": null,
      "outputs": [
        {
          "output_type": "execute_result",
          "data": {
            "application/vnd.google.colaboratory.intrinsic+json": {
              "type": "string"
            },
            "text/plain": [
              "'{\"code\":0,\"message\":\"0\",\"ttl\":1,\"data\":{}}'"
            ]
          },
          "metadata": {
            "tags": []
          },
          "execution_count": 58
        }
      ]
    },
    {
      "cell_type": "code",
      "metadata": {
        "colab": {
          "base_uri": "https://localhost:8080/",
          "height": 35
        },
        "id": "CjP7rM5EsY_e",
        "outputId": "ea79f3e3-723c-4ea1-bc75-53f979941ac9"
      },
      "source": [
        "# basic information of a video\n",
        "base_url = \"http://api.bilibili.com/archive_stat\"\n",
        "params = {\n",
        "    \"bvid\":\"BV1As411U7Uz\",\n",
        "    \"type\":\"jsonp\"\n",
        "}\n",
        "response = requests.get(base_url, params=params)\n",
        "response.text"
      ],
      "execution_count": null,
      "outputs": [
        {
          "output_type": "execute_result",
          "data": {
            "application/vnd.google.colaboratory.intrinsic+json": {
              "type": "string"
            },
            "text/plain": [
              "'Fatal: API not support'"
            ]
          },
          "metadata": {
            "tags": []
          },
          "execution_count": 60
        }
      ]
    },
    {
      "cell_type": "code",
      "metadata": {
        "id": "JHF7LQZpuXKp"
      },
      "source": [
        ""
      ],
      "execution_count": null,
      "outputs": []
    }
  ]
}